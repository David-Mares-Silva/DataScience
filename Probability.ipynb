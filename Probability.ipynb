{
 "cells": [
  {
   "cell_type": "markdown",
   "id": "ad8be911",
   "metadata": {},
   "source": []
  },
  {
   "cell_type": "code",
   "execution_count": 2,
   "id": "8bf9dfaa",
   "metadata": {},
   "outputs": [
    {
     "name": "stdout",
     "output_type": "stream",
     "text": [
      "0.006538461538461539\n"
     ]
    }
   ],
   "source": [
    "#Bayes Theorem i\n",
    "p_coffee_drinker = .65\n",
    "p_cancer = .005\n",
    "p_coffee_drinker_given_cancer = .85\n",
    "p_cancer_given_coffee_drinker = p_coffee_drinker_given_cancer * p_cancer / p_coffee_drinker\n",
    "# prints 0.006538461538461539\n",
    "print(p_cancer_given_coffee_drinker)\n"
   ]
  },
  {
   "cell_type": "code",
   "execution_count": 4,
   "id": "195e5388",
   "metadata": {},
   "outputs": [
    {
     "name": "stdout",
     "output_type": "stream",
     "text": [
      "0 - 9.999999999999977e-11\n",
      "1 - 8.999999999999976e-09\n",
      "2 - 3.6449999999999933e-07\n",
      "3 - 8.747999999999988e-06\n",
      "4 - 0.00013778099999999974\n",
      "5 - 0.0014880347999999982\n",
      "6 - 0.011160260999999989\n",
      "7 - 0.05739562799999997\n",
      "8 - 0.1937102444999998\n",
      "9 - 0.38742048899999976\n",
      "10 - 0.34867844010000015\n"
     ]
    }
   ],
   "source": [
    "#SciPy for the binomial distribution\n",
    "from scipy.stats import binom\n",
    "n = 10\n",
    "p = 0.9\n",
    "for k in range(n + 1):\n",
    "    probability = binom.pmf(k, n, p)\n",
    "    print(\"{0} - {1}\".format(k, probability))\n",
    "#"
   ]
  },
  {
   "cell_type": "markdown",
   "id": "37e5263c",
   "metadata": {},
   "source": [
    "### Beta distribution\n",
    "The beta distribution is a type of probability distribution, which means the area\n",
    "under the entire curve is 1.0, or 100%. To find a probability, we need to find the area\n",
    "within a range."
   ]
  },
  {
   "cell_type": "code",
   "execution_count": null,
   "id": "7372fbb2",
   "metadata": {},
   "outputs": [],
   "source": [
    "#Beta distribution using SciPy\n",
    "from scipy.stats import beta\n",
    "a = 8\n",
    "b = 2\n",
    "p = beta.cdf(.90, a, b)"
   ]
  },
  {
   "cell_type": "code",
   "execution_count": 5,
   "id": "8d5ce560",
   "metadata": {},
   "outputs": [
    {
     "name": "stdout",
     "output_type": "stream",
     "text": [
      "0.22515902199999982\n"
     ]
    }
   ],
   "source": [
    "from scipy.stats import beta\n",
    "a = 8\n",
    "b = 2\n",
    "p = 1.0 - beta.cdf(.90, a, b)\n",
    "# 0.22515902199999993\n",
    "print(p)"
   ]
  },
  {
   "cell_type": "markdown",
   "id": "1090488d",
   "metadata": {},
   "source": [
    "So this means out of 8/10 successful engine tests, there is only a 22.5% chance the\n",
    "underlying success rate is 90% or greater. But there is about a 77.5% chance it is\n",
    "less than 90%."
   ]
  },
  {
   "cell_type": "markdown",
   "id": "1b075c51",
   "metadata": {},
   "source": [
    "How would we calculate an area in the middle? What if I want to\n",
    "find the probability my underlying rate of success is between 80% and 90%"
   ]
  },
  {
   "cell_type": "code",
   "execution_count": 7,
   "id": "5e6e19c0",
   "metadata": {},
   "outputs": [
    {
     "name": "stdout",
     "output_type": "stream",
     "text": [
      "0.3386333619999998\n"
     ]
    }
   ],
   "source": [
    "#Beta distribution middle area using SciPy\n",
    "from scipy.stats import beta\n",
    "a = 8\n",
    "b = 2\n",
    "p = beta.cdf(.90, a, b) - beta.cdf(.80, a, b)\n",
    "# 0.33863336200000016\n",
    "print(p)"
   ]
  },
  {
   "cell_type": "markdown",
   "id": "18499a9b",
   "metadata": {},
   "source": [
    "### Cumulative Density Function (CDF)"
   ]
  },
  {
   "cell_type": "code",
   "execution_count": 8,
   "id": "56fc4e4b",
   "metadata": {},
   "outputs": [
    {
     "name": "stdout",
     "output_type": "stream",
     "text": [
      "0.5\n"
     ]
    }
   ],
   "source": [
    "#The normal distribution CDF \n",
    "from scipy.stats import norm\n",
    "mean = 64.43\n",
    "std_dev = 2.99\n",
    "x = norm.cdf(64.43, mean, std_dev)\n",
    "print(x) # prints 0.5"
   ]
  },
  {
   "cell_type": "code",
   "execution_count": 9,
   "id": "3bb8a8fd",
   "metadata": {},
   "outputs": [
    {
     "name": "stdout",
     "output_type": "stream",
     "text": [
      "0.4920450147062894\n"
     ]
    }
   ],
   "source": [
    "#Getting a middle range probability using the CDF\n",
    "from scipy.stats import norm\n",
    "mean = 64.43\n",
    "std_dev = 2.99\n",
    "x = norm.cdf(66, mean, std_dev) - norm.cdf(62, mean, std_dev)\n",
    "print(x) # prints 0.4920450147062894"
   ]
  },
  {
   "cell_type": "code",
   "execution_count": 12,
   "id": "9a22cc37",
   "metadata": {},
   "outputs": [
    {
     "name": "stdout",
     "output_type": "stream",
     "text": [
      "69.3481123445849\n"
     ]
    }
   ],
   "source": [
    "#Using the inverse CDF (called ppf()) in Python\n",
    "from scipy.stats import norm\n",
    "x = norm.ppf(.95, loc=64.43,scale=2.99)\n",
    "print(x) # 69.3481123445849"
   ]
  },
  {
   "cell_type": "code",
   "execution_count": null,
   "id": "fe0c751e",
   "metadata": {},
   "outputs": [
    {
     "ename": "AttributeError",
     "evalue": "'numpy.float64' object has no attribute 'plot'",
     "output_type": "error",
     "traceback": [
      "\u001b[31m---------------------------------------------------------------------------\u001b[39m",
      "\u001b[31mAttributeError\u001b[39m                            Traceback (most recent call last)",
      "\u001b[36mCell\u001b[39m\u001b[36m \u001b[39m\u001b[32mIn[15]\u001b[39m\u001b[32m, line 9\u001b[39m\n\u001b[32m      6\u001b[39m     random_weight = norm.ppf(random_p, loc=\u001b[32m64.43\u001b[39m, scale=\u001b[32m2.99\u001b[39m)\n\u001b[32m      7\u001b[39m     \u001b[38;5;66;03m#print(random_weight)\u001b[39;00m\n\u001b[32m----> \u001b[39m\u001b[32m9\u001b[39m \u001b[43mrandom_weight\u001b[49m\u001b[43m.\u001b[49m\u001b[43mplot\u001b[49m()\n",
      "\u001b[31mAttributeError\u001b[39m: 'numpy.float64' object has no attribute 'plot'"
     ]
    }
   ],
   "source": [
    "#Generating random numbers from a normal distribution\n",
    "import random\n",
    "from scipy.stats import norm\n",
    "for i in range(0,1000):\n",
    "    random_p = random.uniform(0.0, 1.0)\n",
    "    random_weight = norm.ppf(random_p, loc=64.43, scale=2.99)\n",
    "    #print(random_weight)\n",
    "\n"
   ]
  },
  {
   "cell_type": "code",
   "execution_count": 16,
   "id": "0d1be47e",
   "metadata": {},
   "outputs": [
    {
     "name": "stdout",
     "output_type": "stream",
     "text": [
      "Z-Score: 1.6448536269514709\n",
      "Back to X: 69.3481123445849\n"
     ]
    }
   ],
   "source": [
    "#Turn Z-scores in x values and vice versa ¯\n",
    "def z_score(x, mean, std):\n",
    "    return (x - mean) / std\n",
    "\n",
    "def z_to_x(z, mean, std):\n",
    "    return (z * std) + mean\n",
    "    mean = 140000\n",
    "    std_dev = 3000\n",
    "    x = 150000\n",
    "# Convert to Z-score and then back to X\n",
    "z = z_score(x, mean, std_dev)\n",
    "back_to_x = z_to_x(z, mean, std_dev)\n",
    "print(\"Z-Score: {}\".format(z)) # Z-Score: 3.333\n",
    "print(\"Back to X: {}\".format(back_to_x)) # Back to X: 150000.0"
   ]
  },
  {
   "cell_type": "markdown",
   "id": "adf93c7b",
   "metadata": {},
   "source": [
    "## Inferential statistics"
   ]
  },
  {
   "cell_type": "code",
   "execution_count": 23,
   "id": "306c3ec1",
   "metadata": {},
   "outputs": [
    {
     "data": {
      "application/vnd.plotly.v1+json": {
       "config": {
        "plotlyServerURL": "https://plot.ly"
       },
       "data": [
        {
         "bingroup": "x",
         "hovertemplate": "x=%{x}<br>count=%{y}<extra></extra>",
         "legendgroup": "",
         "marker": {
          "color": "#636efa",
          "pattern": {
           "shape": ""
          }
         },
         "name": "",
         "nbinsx": 20,
         "orientation": "v",
         "showlegend": false,
         "type": "histogram",
         "x": {
          "bdata": "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",
          "dtype": "f8"
         },
         "xaxis": "x",
         "yaxis": "y"
        }
       ],
       "layout": {
        "barmode": "relative",
        "legend": {
         "tracegroupgap": 0
        },
        "template": {
         "data": {
          "bar": [
           {
            "error_x": {
             "color": "#2a3f5f"
            },
            "error_y": {
             "color": "#2a3f5f"
            },
            "marker": {
             "line": {
              "color": "#E5ECF6",
              "width": 0.5
             },
             "pattern": {
              "fillmode": "overlay",
              "size": 10,
              "solidity": 0.2
             }
            },
            "type": "bar"
           }
          ],
          "barpolar": [
           {
            "marker": {
             "line": {
              "color": "#E5ECF6",
              "width": 0.5
             },
             "pattern": {
              "fillmode": "overlay",
              "size": 10,
              "solidity": 0.2
             }
            },
            "type": "barpolar"
           }
          ],
          "carpet": [
           {
            "aaxis": {
             "endlinecolor": "#2a3f5f",
             "gridcolor": "white",
             "linecolor": "white",
             "minorgridcolor": "white",
             "startlinecolor": "#2a3f5f"
            },
            "baxis": {
             "endlinecolor": "#2a3f5f",
             "gridcolor": "white",
             "linecolor": "white",
             "minorgridcolor": "white",
             "startlinecolor": "#2a3f5f"
            },
            "type": "carpet"
           }
          ],
          "choropleth": [
           {
            "colorbar": {
             "outlinewidth": 0,
             "ticks": ""
            },
            "type": "choropleth"
           }
          ],
          "contour": [
           {
            "colorbar": {
             "outlinewidth": 0,
             "ticks": ""
            },
            "colorscale": [
             [
              0,
              "#0d0887"
             ],
             [
              0.1111111111111111,
              "#46039f"
             ],
             [
              0.2222222222222222,
              "#7201a8"
             ],
             [
              0.3333333333333333,
              "#9c179e"
             ],
             [
              0.4444444444444444,
              "#bd3786"
             ],
             [
              0.5555555555555556,
              "#d8576b"
             ],
             [
              0.6666666666666666,
              "#ed7953"
             ],
             [
              0.7777777777777778,
              "#fb9f3a"
             ],
             [
              0.8888888888888888,
              "#fdca26"
             ],
             [
              1,
              "#f0f921"
             ]
            ],
            "type": "contour"
           }
          ],
          "contourcarpet": [
           {
            "colorbar": {
             "outlinewidth": 0,
             "ticks": ""
            },
            "type": "contourcarpet"
           }
          ],
          "heatmap": [
           {
            "colorbar": {
             "outlinewidth": 0,
             "ticks": ""
            },
            "colorscale": [
             [
              0,
              "#0d0887"
             ],
             [
              0.1111111111111111,
              "#46039f"
             ],
             [
              0.2222222222222222,
              "#7201a8"
             ],
             [
              0.3333333333333333,
              "#9c179e"
             ],
             [
              0.4444444444444444,
              "#bd3786"
             ],
             [
              0.5555555555555556,
              "#d8576b"
             ],
             [
              0.6666666666666666,
              "#ed7953"
             ],
             [
              0.7777777777777778,
              "#fb9f3a"
             ],
             [
              0.8888888888888888,
              "#fdca26"
             ],
             [
              1,
              "#f0f921"
             ]
            ],
            "type": "heatmap"
           }
          ],
          "histogram": [
           {
            "marker": {
             "pattern": {
              "fillmode": "overlay",
              "size": 10,
              "solidity": 0.2
             }
            },
            "type": "histogram"
           }
          ],
          "histogram2d": [
           {
            "colorbar": {
             "outlinewidth": 0,
             "ticks": ""
            },
            "colorscale": [
             [
              0,
              "#0d0887"
             ],
             [
              0.1111111111111111,
              "#46039f"
             ],
             [
              0.2222222222222222,
              "#7201a8"
             ],
             [
              0.3333333333333333,
              "#9c179e"
             ],
             [
              0.4444444444444444,
              "#bd3786"
             ],
             [
              0.5555555555555556,
              "#d8576b"
             ],
             [
              0.6666666666666666,
              "#ed7953"
             ],
             [
              0.7777777777777778,
              "#fb9f3a"
             ],
             [
              0.8888888888888888,
              "#fdca26"
             ],
             [
              1,
              "#f0f921"
             ]
            ],
            "type": "histogram2d"
           }
          ],
          "histogram2dcontour": [
           {
            "colorbar": {
             "outlinewidth": 0,
             "ticks": ""
            },
            "colorscale": [
             [
              0,
              "#0d0887"
             ],
             [
              0.1111111111111111,
              "#46039f"
             ],
             [
              0.2222222222222222,
              "#7201a8"
             ],
             [
              0.3333333333333333,
              "#9c179e"
             ],
             [
              0.4444444444444444,
              "#bd3786"
             ],
             [
              0.5555555555555556,
              "#d8576b"
             ],
             [
              0.6666666666666666,
              "#ed7953"
             ],
             [
              0.7777777777777778,
              "#fb9f3a"
             ],
             [
              0.8888888888888888,
              "#fdca26"
             ],
             [
              1,
              "#f0f921"
             ]
            ],
            "type": "histogram2dcontour"
           }
          ],
          "mesh3d": [
           {
            "colorbar": {
             "outlinewidth": 0,
             "ticks": ""
            },
            "type": "mesh3d"
           }
          ],
          "parcoords": [
           {
            "line": {
             "colorbar": {
              "outlinewidth": 0,
              "ticks": ""
             }
            },
            "type": "parcoords"
           }
          ],
          "pie": [
           {
            "automargin": true,
            "type": "pie"
           }
          ],
          "scatter": [
           {
            "fillpattern": {
             "fillmode": "overlay",
             "size": 10,
             "solidity": 0.2
            },
            "type": "scatter"
           }
          ],
          "scatter3d": [
           {
            "line": {
             "colorbar": {
              "outlinewidth": 0,
              "ticks": ""
             }
            },
            "marker": {
             "colorbar": {
              "outlinewidth": 0,
              "ticks": ""
             }
            },
            "type": "scatter3d"
           }
          ],
          "scattercarpet": [
           {
            "marker": {
             "colorbar": {
              "outlinewidth": 0,
              "ticks": ""
             }
            },
            "type": "scattercarpet"
           }
          ],
          "scattergeo": [
           {
            "marker": {
             "colorbar": {
              "outlinewidth": 0,
              "ticks": ""
             }
            },
            "type": "scattergeo"
           }
          ],
          "scattergl": [
           {
            "marker": {
             "colorbar": {
              "outlinewidth": 0,
              "ticks": ""
             }
            },
            "type": "scattergl"
           }
          ],
          "scattermap": [
           {
            "marker": {
             "colorbar": {
              "outlinewidth": 0,
              "ticks": ""
             }
            },
            "type": "scattermap"
           }
          ],
          "scattermapbox": [
           {
            "marker": {
             "colorbar": {
              "outlinewidth": 0,
              "ticks": ""
             }
            },
            "type": "scattermapbox"
           }
          ],
          "scatterpolar": [
           {
            "marker": {
             "colorbar": {
              "outlinewidth": 0,
              "ticks": ""
             }
            },
            "type": "scatterpolar"
           }
          ],
          "scatterpolargl": [
           {
            "marker": {
             "colorbar": {
              "outlinewidth": 0,
              "ticks": ""
             }
            },
            "type": "scatterpolargl"
           }
          ],
          "scatterternary": [
           {
            "marker": {
             "colorbar": {
              "outlinewidth": 0,
              "ticks": ""
             }
            },
            "type": "scatterternary"
           }
          ],
          "surface": [
           {
            "colorbar": {
             "outlinewidth": 0,
             "ticks": ""
            },
            "colorscale": [
             [
              0,
              "#0d0887"
             ],
             [
              0.1111111111111111,
              "#46039f"
             ],
             [
              0.2222222222222222,
              "#7201a8"
             ],
             [
              0.3333333333333333,
              "#9c179e"
             ],
             [
              0.4444444444444444,
              "#bd3786"
             ],
             [
              0.5555555555555556,
              "#d8576b"
             ],
             [
              0.6666666666666666,
              "#ed7953"
             ],
             [
              0.7777777777777778,
              "#fb9f3a"
             ],
             [
              0.8888888888888888,
              "#fdca26"
             ],
             [
              1,
              "#f0f921"
             ]
            ],
            "type": "surface"
           }
          ],
          "table": [
           {
            "cells": {
             "fill": {
              "color": "#EBF0F8"
             },
             "line": {
              "color": "white"
             }
            },
            "header": {
             "fill": {
              "color": "#C8D4E3"
             },
             "line": {
              "color": "white"
             }
            },
            "type": "table"
           }
          ]
         },
         "layout": {
          "annotationdefaults": {
           "arrowcolor": "#2a3f5f",
           "arrowhead": 0,
           "arrowwidth": 1
          },
          "autotypenumbers": "strict",
          "coloraxis": {
           "colorbar": {
            "outlinewidth": 0,
            "ticks": ""
           }
          },
          "colorscale": {
           "diverging": [
            [
             0,
             "#8e0152"
            ],
            [
             0.1,
             "#c51b7d"
            ],
            [
             0.2,
             "#de77ae"
            ],
            [
             0.3,
             "#f1b6da"
            ],
            [
             0.4,
             "#fde0ef"
            ],
            [
             0.5,
             "#f7f7f7"
            ],
            [
             0.6,
             "#e6f5d0"
            ],
            [
             0.7,
             "#b8e186"
            ],
            [
             0.8,
             "#7fbc41"
            ],
            [
             0.9,
             "#4d9221"
            ],
            [
             1,
             "#276419"
            ]
           ],
           "sequential": [
            [
             0,
             "#0d0887"
            ],
            [
             0.1111111111111111,
             "#46039f"
            ],
            [
             0.2222222222222222,
             "#7201a8"
            ],
            [
             0.3333333333333333,
             "#9c179e"
            ],
            [
             0.4444444444444444,
             "#bd3786"
            ],
            [
             0.5555555555555556,
             "#d8576b"
            ],
            [
             0.6666666666666666,
             "#ed7953"
            ],
            [
             0.7777777777777778,
             "#fb9f3a"
            ],
            [
             0.8888888888888888,
             "#fdca26"
            ],
            [
             1,
             "#f0f921"
            ]
           ],
           "sequentialminus": [
            [
             0,
             "#0d0887"
            ],
            [
             0.1111111111111111,
             "#46039f"
            ],
            [
             0.2222222222222222,
             "#7201a8"
            ],
            [
             0.3333333333333333,
             "#9c179e"
            ],
            [
             0.4444444444444444,
             "#bd3786"
            ],
            [
             0.5555555555555556,
             "#d8576b"
            ],
            [
             0.6666666666666666,
             "#ed7953"
            ],
            [
             0.7777777777777778,
             "#fb9f3a"
            ],
            [
             0.8888888888888888,
             "#fdca26"
            ],
            [
             1,
             "#f0f921"
            ]
           ]
          },
          "colorway": [
           "#636efa",
           "#EF553B",
           "#00cc96",
           "#ab63fa",
           "#FFA15A",
           "#19d3f3",
           "#FF6692",
           "#B6E880",
           "#FF97FF",
           "#FECB52"
          ],
          "font": {
           "color": "#2a3f5f"
          },
          "geo": {
           "bgcolor": "white",
           "lakecolor": "white",
           "landcolor": "#E5ECF6",
           "showlakes": true,
           "showland": true,
           "subunitcolor": "white"
          },
          "hoverlabel": {
           "align": "left"
          },
          "hovermode": "closest",
          "mapbox": {
           "style": "light"
          },
          "paper_bgcolor": "white",
          "plot_bgcolor": "#E5ECF6",
          "polar": {
           "angularaxis": {
            "gridcolor": "white",
            "linecolor": "white",
            "ticks": ""
           },
           "bgcolor": "#E5ECF6",
           "radialaxis": {
            "gridcolor": "white",
            "linecolor": "white",
            "ticks": ""
           }
          },
          "scene": {
           "xaxis": {
            "backgroundcolor": "#E5ECF6",
            "gridcolor": "white",
            "gridwidth": 2,
            "linecolor": "white",
            "showbackground": true,
            "ticks": "",
            "zerolinecolor": "white"
           },
           "yaxis": {
            "backgroundcolor": "#E5ECF6",
            "gridcolor": "white",
            "gridwidth": 2,
            "linecolor": "white",
            "showbackground": true,
            "ticks": "",
            "zerolinecolor": "white"
           },
           "zaxis": {
            "backgroundcolor": "#E5ECF6",
            "gridcolor": "white",
            "gridwidth": 2,
            "linecolor": "white",
            "showbackground": true,
            "ticks": "",
            "zerolinecolor": "white"
           }
          },
          "shapedefaults": {
           "line": {
            "color": "#2a3f5f"
           }
          },
          "ternary": {
           "aaxis": {
            "gridcolor": "white",
            "linecolor": "white",
            "ticks": ""
           },
           "baxis": {
            "gridcolor": "white",
            "linecolor": "white",
            "ticks": ""
           },
           "bgcolor": "#E5ECF6",
           "caxis": {
            "gridcolor": "white",
            "linecolor": "white",
            "ticks": ""
           }
          },
          "title": {
           "x": 0.05
          },
          "xaxis": {
           "automargin": true,
           "gridcolor": "white",
           "linecolor": "white",
           "ticks": "",
           "title": {
            "standoff": 15
           },
           "zerolinecolor": "white",
           "zerolinewidth": 2
          },
          "yaxis": {
           "automargin": true,
           "gridcolor": "white",
           "linecolor": "white",
           "ticks": "",
           "title": {
            "standoff": 15
           },
           "zerolinecolor": "white",
           "zerolinewidth": 2
          }
         }
        },
        "title": {
         "text": "Central Limit Theorem Demo"
        },
        "xaxis": {
         "anchor": "y",
         "domain": [
          0,
          1
         ],
         "title": {
          "text": "x"
         }
        },
        "yaxis": {
         "anchor": "x",
         "domain": [
          0,
          1
         ],
         "title": {
          "text": "count"
         }
        }
       }
      }
     },
     "metadata": {},
     "output_type": "display_data"
    }
   ],
   "source": [
    "#Exploring the central limit theorem in Python\n",
    "# Samples of the uniform distribution will average out to a normal distribution.\n",
    "import random\n",
    "import plotly.express as px\n",
    "sample_size = 31\n",
    "sample_count = 1000\n",
    "# Central limit theorem, 1000 samples each with 31 random numbers between 0.0 and 1.0\n",
    "x_values = [\n",
    "    sum([random.uniform(0.0, 1.0) for _ in range(sample_size)]) / sample_size\n",
    "    for _ in range(sample_count)\n",
    "]\n",
    "\n",
    "\n",
    "px.histogram(x=x_values, nbins=20, title=\"Central Limit Theorem Demo\").show()"
   ]
  },
  {
   "cell_type": "code",
   "execution_count": 25,
   "id": "9eda954e",
   "metadata": {},
   "outputs": [
    {
     "name": "stdout",
     "output_type": "stream",
     "text": [
      "(np.float64(-1.959963984540054), np.float64(1.959963984540054))\n"
     ]
    }
   ],
   "source": [
    "# Retrieving a critical Z-value\n",
    "from scipy.stats import norm\n",
    "def critical_z_value(p):\n",
    "    norm_dist = norm(loc=0.0, scale=1.0)\n",
    "    left_tail_area = (1.0 - p) / 2.0\n",
    "    upper_area = 1.0 - ((1.0 - p) / 2.0)\n",
    "    return norm_dist.ppf(left_tail_area), norm_dist.ppf(upper_area)\n",
    "\n",
    "print(critical_z_value(p=.95))\n",
    "# (-1.959963984540054, 1.959963984540054)"
   ]
  },
  {
   "cell_type": "code",
   "execution_count": 27,
   "id": "5de44b19",
   "metadata": {},
   "outputs": [
    {
     "name": "stdout",
     "output_type": "stream",
     "text": [
      "(np.float64(63.68635915701992), np.float64(65.12964084298008))\n"
     ]
    }
   ],
   "source": [
    "#Calculating a confidence interval \n",
    "#sample of 31 objects has a mean of 64.408 and standard deviation of 2.05\n",
    "from math import sqrt\n",
    "from scipy.stats import norm\n",
    "def critical_z_value(p):\n",
    "    norm_dist = norm(loc=0.0, scale=1.0)\n",
    "    left_tail_area = (1.0 - p) / 2.0\n",
    "    upper_area = 1.0 - ((1.0 - p) / 2.0)\n",
    "    return norm_dist.ppf(left_tail_area), norm_dist.ppf(upper_area)\n",
    "\n",
    "def confidence_interval(p, sample_mean, sample_std, n):\n",
    "# Sample size must be greater than 30\n",
    "    lower, upper = critical_z_value(p)\n",
    "    lower_ci = lower * (sample_std / sqrt(n))\n",
    "    upper_ci = upper * (sample_std / sqrt(n))\n",
    "    return sample_mean + lower_ci, sample_mean + upper_ci\n",
    "\n",
    "print(confidence_interval(p=.95, sample_mean=64.408, sample_std=2.05,n=31))\n",
    "# (63.68635915701992, 65.12964084298008)"
   ]
  },
  {
   "cell_type": "code",
   "execution_count": 28,
   "id": "496304c6",
   "metadata": {},
   "outputs": [
    {
     "name": "stdout",
     "output_type": "stream",
     "text": [
      "0.9544997361036416\n"
     ]
    }
   ],
   "source": [
    "#Calculating the probability of recovery between 15 and 21 days\n",
    "from scipy.stats import norm\n",
    "# Cold has 18 day mean recovery, 1.5 std dev\n",
    "mean = 18\n",
    "std_dev = 1.5\n",
    "# 95% probability recovery time takes between 15 and 21 days.\n",
    "x = norm.cdf(21, mean, std_dev) - norm.cdf(15, mean, std_dev)\n",
    "print(x) # 0.9544997361036416"
   ]
  },
  {
   "cell_type": "markdown",
   "id": "889bee4c",
   "metadata": {},
   "source": [
    "#### One tailed test"
   ]
  },
  {
   "cell_type": "code",
   "execution_count": null,
   "id": "cd3e6a93",
   "metadata": {},
   "outputs": [
    {
     "name": "stdout",
     "output_type": "stream",
     "text": [
      "15.53271955957279\n"
     ]
    }
   ],
   "source": [
    "#getting x-value with 5% of area behind it\n",
    "from scipy.stats import norm\n",
    "# Cold has 18 day mean recovery, 1.5 std dev\n",
    "mean = 18\n",
    "std_dev = 1.5\n",
    "# What x-value has 5% of area behind it?\n",
    "x = norm.ppf(.05, mean, std_dev)\n",
    "print(x) # 15.53271955957279"
   ]
  },
  {
   "cell_type": "code",
   "execution_count": 30,
   "id": "4776540b",
   "metadata": {},
   "outputs": [
    {
     "name": "stdout",
     "output_type": "stream",
     "text": [
      "0.09121121972586788\n"
     ]
    }
   ],
   "source": [
    "#Calculating the 1-tailed p-value\n",
    "from scipy.stats import norm\n",
    "# Cold has 18 day mean recovery, 1.5 std dev\n",
    "mean = 18\n",
    "std_dev = 1.5\n",
    "# Probability of 16 or less days\n",
    "p_value = norm.cdf(16, mean, std_dev)\n",
    "print(p_value) # 0.09121121972586788"
   ]
  },
  {
   "cell_type": "markdown",
   "id": "f573fab1",
   "metadata": {},
   "source": [
    "#### Two-Tailed Test\n",
    "To do a two-tailed test, we frame our null and alternative hypothesis in an\n",
    "“equal” and “not equal” structure. In our drug test, we will say the null\n",
    "hypothesis has a mean recovery time of 18 days. But our alternative hypothesis\n",
    "is the mean recovery time is not 18 days thanks to the new drug."
   ]
  },
  {
   "cell_type": "code",
   "execution_count": 31,
   "id": "8c563b51",
   "metadata": {},
   "outputs": [
    {
     "name": "stdout",
     "output_type": "stream",
     "text": [
      "15.060054023189918\n",
      "20.93994597681008\n"
     ]
    }
   ],
   "source": [
    "from scipy.stats import norm\n",
    "# Cold has 18 day mean recovery, 1.5 std dev\n",
    "mean = 18\n",
    "std_dev = 1.5\n",
    "# What x-value has 2.5% of area behind it?\n",
    "x1 = norm.ppf(.025, mean, std_dev)\n",
    "# What x-value has 97.5% of area behind it\n",
    "x2 = norm.ppf(.975, mean, std_dev)\n",
    "print(x1) # 15.060054023189918\n",
    "print(x2) # 20.93994597681008"
   ]
  },
  {
   "cell_type": "code",
   "execution_count": 32,
   "id": "8e498bfc",
   "metadata": {},
   "outputs": [
    {
     "name": "stdout",
     "output_type": "stream",
     "text": [
      "0.18242243945173575\n"
     ]
    }
   ],
   "source": [
    "#Calculating the 2-tailed p-value\n",
    "from scipy.stats import norm\n",
    "# Cold has 18 day mean recovery, 1.5 std dev\n",
    "mean = 18\n",
    "std_dev = 1.5\n",
    "# Probability of 16 or less days\n",
    "p1 = norm.cdf(16, mean, std_dev)\n",
    "# Probability of 20 or more days\n",
    "p2 = 1.0 - norm.cdf(20, mean, std_dev)\n",
    "# P-value of both tails\n",
    "p_value = p1 + p2\n",
    "print(p_value) # 0.18242243945173575"
   ]
  },
  {
   "cell_type": "markdown",
   "id": "6308c81d",
   "metadata": {},
   "source": [
    "## T distribution"
   ]
  },
  {
   "cell_type": "code",
   "execution_count": null,
   "id": "c9712a1f",
   "metadata": {},
   "outputs": [
    {
     "name": "stdout",
     "output_type": "stream",
     "text": [
      "-2.063898561628021 2.0638985616280205\n"
     ]
    },
    {
     "ename": "",
     "evalue": "",
     "output_type": "error",
     "traceback": [
      "\u001b[1;31mThe Kernel crashed while executing code in the current cell or a previous cell. \n",
      "\u001b[1;31mPlease review the code in the cell(s) to identify a possible cause of the failure. \n",
      "\u001b[1;31mClick <a href='https://aka.ms/vscodeJupyterKernelCrash'>here</a> for more info. \n",
      "\u001b[1;31mView Jupyter <a href='command:jupyter.viewOutput'>log</a> for further details."
     ]
    }
   ],
   "source": [
    "from scipy.stats import t\n",
    "# get critical value range for 95% confidence\n",
    "# with a sample size of 25\n",
    "n = 25\n",
    "lower = t.ppf(.025, df=n-1)\n",
    "upper = t.ppf(.975, df=n-1)\n",
    "print(lower, upper)\n",
    "#-2.063898561628021 2.0638985616280205"
   ]
  },
  {
   "cell_type": "code",
   "execution_count": null,
   "id": "7c1ad811",
   "metadata": {},
   "outputs": [],
   "source": []
  }
 ],
 "metadata": {
  "kernelspec": {
   "display_name": "Python 3",
   "language": "python",
   "name": "python3"
  },
  "language_info": {
   "codemirror_mode": {
    "name": "ipython",
    "version": 3
   },
   "file_extension": ".py",
   "mimetype": "text/x-python",
   "name": "python",
   "nbconvert_exporter": "python",
   "pygments_lexer": "ipython3",
   "version": "3.13.3"
  }
 },
 "nbformat": 4,
 "nbformat_minor": 5
}
