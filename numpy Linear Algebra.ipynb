{
 "cells": [
  {
   "cell_type": "markdown",
   "id": "c86c9d7b",
   "metadata": {},
   "source": [
    "# Linear Algebra"
   ]
  },
  {
   "cell_type": "code",
   "execution_count": 1,
   "id": "c00e3bcd",
   "metadata": {},
   "outputs": [
    {
     "name": "stdout",
     "output_type": "stream",
     "text": [
      "COMBINED MATRIX:\n",
      " [[ 1 -1]\n",
      " [ 1  0]]\n",
      "[-1  1]\n"
     ]
    }
   ],
   "source": [
    "# matrix multiplication\n",
    "from numpy import array\n",
    "# Transformation 1\n",
    "i_hat1 = array([0, 1])\n",
    "j_hat1 = array([-1, 0])\n",
    "transform1 = array([i_hat1, j_hat1]).transpose()\n",
    "# Transformation 2\n",
    "i_hat2 = array([1, 0])\n",
    "j_hat2 = array([1, 1])\n",
    "transform2 = array([i_hat2, j_hat2]).transpose()\n",
    "# Combine Transformations\n",
    "combined = transform2 @ transform1\n",
    "# Test\n",
    "print(\"COMBINED MATRIX:\\n {}\".format(combined))\n",
    "v = array([1, 2])\n",
    "print(combined.dot(v)) # [-1 1]"
   ]
  },
  {
   "cell_type": "code",
   "execution_count": 2,
   "id": "f91d805f",
   "metadata": {},
   "outputs": [
    {
     "name": "stdout",
     "output_type": "stream",
     "text": [
      "[-1  1]\n"
     ]
    }
   ],
   "source": [
    "rotated = transform1.dot(v)\n",
    "sheered = transform2.dot(rotated)\n",
    "print(sheered) # [-1 1]"
   ]
  },
  {
   "cell_type": "code",
   "execution_count": null,
   "id": "4b04146d",
   "metadata": {},
   "outputs": [],
   "source": []
  },
  {
   "cell_type": "markdown",
   "id": "2512786b",
   "metadata": {},
   "source": [
    "## Determinants"
   ]
  },
  {
   "cell_type": "code",
   "execution_count": null,
   "id": "69c2be0a",
   "metadata": {},
   "outputs": [],
   "source": [
    "# Simple shears and rotations should not affect the determinant as the area will not change."
   ]
  },
  {
   "cell_type": "code",
   "execution_count": null,
   "id": "40243139",
   "metadata": {},
   "outputs": [],
   "source": [
    "#A determinant on a flipped space is negative\n",
    "from numpy.linalg import det\n",
    "from numpy import array\n",
    "i_hat = array([-2, 1])\n",
    "j_hat = array([1, 2])\n",
    "basis = array([i_hat, j_hat]).transpose()\n",
    "determinant = det(basis)\n",
    "print(determinant) # prints -5.0"
   ]
  },
  {
   "cell_type": "code",
   "execution_count": null,
   "id": "3f581ad6",
   "metadata": {},
   "outputs": [],
   "source": [
    "\"\"\" testing for a 0 determinant is highly helpful to determine if a\n",
    "transformation has linear dependence. When you encounter this you will\n",
    "likely find a difficult or unsolvable problem on your hands.\"\"\"\"Math for Data Science.ipynb\"\n",
    "\n",
    "i_hat = array([-2, 1])\n",
    "j_hat = array([3, -1.5])\n",
    "basis = array([i_hat, j_hat]).transpose()\n",
    "determinant = det(basis)\n",
    "print(determinant) # prints 0.0"
   ]
  },
  {
   "cell_type": "code",
   "execution_count": null,
   "id": "4aae4983",
   "metadata": {},
   "outputs": [],
   "source": []
  },
  {
   "cell_type": "markdown",
   "id": "ac54c1fe",
   "metadata": {},
   "source": [
    "## Inverse Matriz"
   ]
  },
  {
   "cell_type": "code",
   "execution_count": 3,
   "id": "f823edda",
   "metadata": {},
   "outputs": [
    {
     "name": "stdout",
     "output_type": "stream",
     "text": [
      "INVERSE: Matrix([[-1/2, 0, 1/3], [11/2, -2, -4/3], [-2, 1, 1/3]])\n",
      "IDENTITY: Matrix([[1, 0, 0], [0, 1, 0], [0, 0, 1]])\n"
     ]
    }
   ],
   "source": [
    "# SymPy to study the inverse and identity matrix\n",
    "from sympy import *\n",
    "# 4x + 2y + 4z = 44\n",
    "# 5x + 3y + 7z = 56\n",
    "# 9x + 3y + 6z = 72\n",
    "A = Matrix([\n",
    "[4, 2, 4],\n",
    "[5, 3, 7],\n",
    "[9, 3, 6]\n",
    "])\n",
    "# dot product between A and its inverse\n",
    "# will produce identity function\n",
    "inverse = A.inv()\n",
    "identity = inverse * A\n",
    "# prints Matrix([[-1/2, 0, 1/3], [11/2, -2, -4/3], [-2, 1, 1/3]])\n",
    "print(\"INVERSE: {}\".format(inverse))\n",
    "# prints Matrix([[1, 0, 0], [0, 1, 0], [0, 0, 1]])\n",
    "print(\"IDENTITY: {}\".format(identity))"
   ]
  },
  {
   "cell_type": "code",
   "execution_count": 4,
   "id": "da26b007",
   "metadata": {},
   "outputs": [
    {
     "name": "stdout",
     "output_type": "stream",
     "text": [
      "[ 2. 34. -8.]\n"
     ]
    }
   ],
   "source": [
    "\n",
    "# NumPy to solve a system of equations\n",
    "from numpy import array\n",
    "from numpy.linalg import inv\n",
    "# 4x + 2y + 4z = 44\n",
    "# 5x + 3y + 7z = 56\n",
    "# 9x + 3y + 6z = 72\n",
    "A = array([\n",
    "[4, 2, 4],\n",
    "[5, 3, 7],\n",
    "[9, 3, 6]\n",
    "])\n",
    "B = array([\n",
    "44,\n",
    "56,\n",
    "72\n",
    "])\n",
    "X = inv(A).dot(B)\n",
    "print(X) # [ 2. 34. -8.]"
   ]
  },
  {
   "cell_type": "code",
   "execution_count": null,
   "id": "784d4a05",
   "metadata": {},
   "outputs": [],
   "source": [
    "from sympy import *\n",
    "# 4x + 2y + 4z = 44\n",
    "# 5x + 3y + 7z = 56\n",
    "# 9x + 3y + 6z = 72\n",
    "A = Matrix([\n",
    "[4, 2, 4],\n",
    "[5, 3, 7],\n",
    "[9, 3, 6]\n",
    "])\n",
    "B = Matrix([\n",
    "44,\n",
    "56,\n",
    "72\n",
    "])\n",
    "X = A.inv() * B\n",
    "print(X) # Matrix([[2], [34], [-8]])"
   ]
  },
  {
   "cell_type": "markdown",
   "id": "7ef74bdf",
   "metadata": {},
   "source": [
    "## Eigenvectors and Eigenvalues"
   ]
  },
  {
   "cell_type": "code",
   "execution_count": 6,
   "id": "441f2ff7",
   "metadata": {},
   "outputs": [
    {
     "name": "stdout",
     "output_type": "stream",
     "text": [
      "EIGENVALUES\n",
      "[-0.46410162  6.46410162]\n",
      "\n",
      "EIGENVECTORS\n",
      "[[-0.80689822 -0.34372377]\n",
      " [ 0.59069049 -0.9390708 ]]\n"
     ]
    },
    {
     "data": {
      "text/plain": [
       "'\\nEIGENVALUES\\n[-0.46410162 6.46410162]\\nEIGENVECTORS\\n[[-0.80689822 -0.34372377]\\n[ 0.59069049 -0.9390708 ]]\\n'"
      ]
     },
     "execution_count": 6,
     "metadata": {},
     "output_type": "execute_result"
    }
   ],
   "source": [
    "#Performing eigendecomposition in NumPy\n",
    "from numpy import array, diag\n",
    "from numpy.linalg import eig, inv\n",
    "A = array([\n",
    "[1, 2],\n",
    "[4, 5]\n",
    "])\n",
    "eigenvals, eigenvecs = eig(A)\n",
    "print(\"EIGENVALUES\")\n",
    "print(eigenvals)\n",
    "print(\"\\nEIGENVECTORS\")\n",
    "print(eigenvecs)\n",
    "\"\"\"\n",
    "EIGENVALUES\n",
    "[-0.46410162 6.46410162]\n",
    "EIGENVECTORS\n",
    "[[-0.80689822 -0.34372377]\n",
    "[ 0.59069049 -0.9390708 ]]\n",
    "\"\"\"\n"
   ]
  },
  {
   "cell_type": "code",
   "execution_count": null,
   "id": "b2a39335",
   "metadata": {},
   "outputs": [
    {
     "name": "stdout",
     "output_type": "stream",
     "text": [
      "EIGENVALUES\n",
      "[-0.46410162  6.46410162]\n",
      "\n",
      "EIGENVECTORS\n",
      "[[-0.80689822 -0.34372377]\n",
      " [ 0.59069049 -0.9390708 ]]\n",
      "\n",
      "REBUILD MATRIX\n",
      "[[1. 2.]\n",
      " [4. 5.]]\n"
     ]
    },
    {
     "data": {
      "text/plain": [
       "'\\nEIGENVALUES\\n[-0.46410162 6.46410162]\\nEIGENVECTORS\\n[[-0.80689822 -0.34372377]\\n[ 0.59069049 -0.9390708 ]]\\nREBUILD MATRIX\\n[[1. 2.]\\n[4. 5.]]\\n'"
      ]
     },
     "execution_count": 7,
     "metadata": {},
     "output_type": "execute_result"
    },
    {
     "ename": "",
     "evalue": "",
     "output_type": "error",
     "traceback": [
      "\u001b[1;31mThe Kernel crashed while executing code in the current cell or a previous cell. \n",
      "\u001b[1;31mPlease review the code in the cell(s) to identify a possible cause of the failure. \n",
      "\u001b[1;31mClick <a href='https://aka.ms/vscodeJupyterKernelCrash'>here</a> for more info. \n",
      "\u001b[1;31mView Jupyter <a href='command:jupyter.viewOutput'>log</a> for further details."
     ]
    }
   ],
   "source": [
    "#Decomposing and recomposing a matrix in NumPy\n",
    "from numpy import array, diag\n",
    "from numpy.linalg import eig, inv\n",
    "A = array([\n",
    "[1, 2],\n",
    "[4, 5]\n",
    "])\n",
    "eigenvals, eigenvecs = eig(A)\n",
    "print(\"EIGENVALUES\")\n",
    "print(eigenvals)\n",
    "print(\"\\nEIGENVECTORS\")\n",
    "print(eigenvecs)\n",
    "print(\"\\nREBUILD MATRIX\")\n",
    "Q = eigenvecs\n",
    "R = inv(Q)\n",
    "L = diag(eigenvals)\n",
    "B = Q @ L @ R\n",
    "print(B)\n",
    "\"\"\"\n",
    "EIGENVALUES\n",
    "[-0.46410162 6.46410162]\n",
    "EIGENVECTORS\n",
    "[[-0.80689822 -0.34372377]\n",
    "[ 0.59069049 -0.9390708 ]]\n",
    "REBUILD MATRIX\n",
    "[[1. 2.]\n",
    "[4. 5.]]\n",
    "\"\"\""
   ]
  },
  {
   "cell_type": "code",
   "execution_count": null,
   "id": "8c43bf1d",
   "metadata": {},
   "outputs": [],
   "source": []
  }
 ],
 "metadata": {
  "kernelspec": {
   "display_name": "Python 3",
   "language": "python",
   "name": "python3"
  },
  "language_info": {
   "codemirror_mode": {
    "name": "ipython",
    "version": 3
   },
   "file_extension": ".py",
   "mimetype": "text/x-python",
   "name": "python",
   "nbconvert_exporter": "python",
   "pygments_lexer": "ipython3",
   "version": "3.13.3"
  }
 },
 "nbformat": 4,
 "nbformat_minor": 5
}
