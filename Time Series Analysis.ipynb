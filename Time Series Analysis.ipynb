{
 "cells": [
  {
   "cell_type": "markdown",
   "id": "5a0f1e73",
   "metadata": {},
   "source": [
    "# TimeSeries    "
   ]
  },
  {
   "cell_type": "code",
   "execution_count": 2,
   "id": "c47b9b21",
   "metadata": {},
   "outputs": [],
   "source": [
    "import numpy as np\n",
    "import pandas as pd\n",
    "from datetime import datetime"
   ]
  },
  {
   "cell_type": "markdown",
   "id": "89601b35",
   "metadata": {},
   "source": [
    "## Time Series Analysis"
   ]
  },
  {
   "cell_type": "code",
   "execution_count": 3,
   "id": "4a66a190",
   "metadata": {},
   "outputs": [],
   "source": [
    "data ={'date':['2018-01-01','2018-02-01',\n",
    "'2018-03-01', '2018-04-01',\n",
    "'2018-05-01', '2018-06-01',\n",
    "'2018-01-01', '2018-02-01',\n",
    "'2018-03-01', '2018-04-01',\n",
    "'2018-05-01', '2018-06-01'],\n",
    "'visitors': [35,30,82,26,\n",
    "83, 46,40,57,95,57,87,42]}"
   ]
  },
  {
   "cell_type": "code",
   "execution_count": 4,
   "id": "d8783bc9",
   "metadata": {},
   "outputs": [],
   "source": [
    "df =pd.DataFrame(data,\n",
    "columns=['date', 'visitors'])"
   ]
  },
  {
   "cell_type": "markdown",
   "id": "b700dc26",
   "metadata": {},
   "source": [
    "Convert Pandas columns into date objects."
   ]
  },
  {
   "cell_type": "code",
   "execution_count": 5,
   "id": "1317f596",
   "metadata": {},
   "outputs": [],
   "source": [
    "df['date'] =pd.to_datetime(df['date'])"
   ]
  },
  {
   "cell_type": "code",
   "execution_count": 6,
   "id": "0033978a",
   "metadata": {},
   "outputs": [],
   "source": [
    "# set an index and sort the dataframe by that index.\n",
    "df.set_index('date', inplace=True)\n",
    "df.sort_index(inplace=True)"
   ]
  },
  {
   "cell_type": "code",
   "execution_count": null,
   "id": "fcfec1fa",
   "metadata": {},
   "outputs": [],
   "source": []
  },
  {
   "cell_type": "code",
   "execution_count": 7,
   "id": "caeadd21",
   "metadata": {},
   "outputs": [
    {
     "data": {
      "text/html": [
       "<div>\n",
       "<style scoped>\n",
       "    .dataframe tbody tr th:only-of-type {\n",
       "        vertical-align: middle;\n",
       "    }\n",
       "\n",
       "    .dataframe tbody tr th {\n",
       "        vertical-align: top;\n",
       "    }\n",
       "\n",
       "    .dataframe thead th {\n",
       "        text-align: right;\n",
       "    }\n",
       "</style>\n",
       "<table border=\"1\" class=\"dataframe\">\n",
       "  <thead>\n",
       "    <tr style=\"text-align: right;\">\n",
       "      <th></th>\n",
       "      <th>visitors</th>\n",
       "    </tr>\n",
       "    <tr>\n",
       "      <th>date</th>\n",
       "      <th></th>\n",
       "    </tr>\n",
       "  </thead>\n",
       "  <tbody>\n",
       "    <tr>\n",
       "      <th>2018-01-01</th>\n",
       "      <td>35</td>\n",
       "    </tr>\n",
       "    <tr>\n",
       "      <th>2018-01-01</th>\n",
       "      <td>40</td>\n",
       "    </tr>\n",
       "    <tr>\n",
       "      <th>2018-02-01</th>\n",
       "      <td>30</td>\n",
       "    </tr>\n",
       "    <tr>\n",
       "      <th>2018-02-01</th>\n",
       "      <td>57</td>\n",
       "    </tr>\n",
       "    <tr>\n",
       "      <th>2018-03-01</th>\n",
       "      <td>82</td>\n",
       "    </tr>\n",
       "  </tbody>\n",
       "</table>\n",
       "</div>"
      ],
      "text/plain": [
       "            visitors\n",
       "date                \n",
       "2018-01-01        35\n",
       "2018-01-01        40\n",
       "2018-02-01        30\n",
       "2018-02-01        57\n",
       "2018-03-01        82"
      ]
     },
     "execution_count": 7,
     "metadata": {},
     "output_type": "execute_result"
    }
   ],
   "source": [
    "df.head()"
   ]
  },
  {
   "cell_type": "code",
   "execution_count": 8,
   "id": "452f9423",
   "metadata": {},
   "outputs": [
    {
     "data": {
      "text/html": [
       "<div>\n",
       "<style scoped>\n",
       "    .dataframe tbody tr th:only-of-type {\n",
       "        vertical-align: middle;\n",
       "    }\n",
       "\n",
       "    .dataframe tbody tr th {\n",
       "        vertical-align: top;\n",
       "    }\n",
       "\n",
       "    .dataframe thead th {\n",
       "        text-align: right;\n",
       "    }\n",
       "</style>\n",
       "<table border=\"1\" class=\"dataframe\">\n",
       "  <thead>\n",
       "    <tr style=\"text-align: right;\">\n",
       "      <th></th>\n",
       "      <th>visitors</th>\n",
       "    </tr>\n",
       "    <tr>\n",
       "      <th>date</th>\n",
       "      <th></th>\n",
       "    </tr>\n",
       "  </thead>\n",
       "  <tbody>\n",
       "    <tr>\n",
       "      <th>2018-01-01</th>\n",
       "      <td>35</td>\n",
       "    </tr>\n",
       "    <tr>\n",
       "      <th>2018-01-01</th>\n",
       "      <td>40</td>\n",
       "    </tr>\n",
       "    <tr>\n",
       "      <th>2018-02-01</th>\n",
       "      <td>30</td>\n",
       "    </tr>\n",
       "    <tr>\n",
       "      <th>2018-02-01</th>\n",
       "      <td>57</td>\n",
       "    </tr>\n",
       "    <tr>\n",
       "      <th>2018-03-01</th>\n",
       "      <td>82</td>\n",
       "    </tr>\n",
       "    <tr>\n",
       "      <th>2018-03-01</th>\n",
       "      <td>95</td>\n",
       "    </tr>\n",
       "    <tr>\n",
       "      <th>2018-04-01</th>\n",
       "      <td>26</td>\n",
       "    </tr>\n",
       "    <tr>\n",
       "      <th>2018-04-01</th>\n",
       "      <td>57</td>\n",
       "    </tr>\n",
       "    <tr>\n",
       "      <th>2018-05-01</th>\n",
       "      <td>83</td>\n",
       "    </tr>\n",
       "    <tr>\n",
       "      <th>2018-05-01</th>\n",
       "      <td>87</td>\n",
       "    </tr>\n",
       "    <tr>\n",
       "      <th>2018-06-01</th>\n",
       "      <td>46</td>\n",
       "    </tr>\n",
       "    <tr>\n",
       "      <th>2018-06-01</th>\n",
       "      <td>42</td>\n",
       "    </tr>\n",
       "  </tbody>\n",
       "</table>\n",
       "</div>"
      ],
      "text/plain": [
       "            visitors\n",
       "date                \n",
       "2018-01-01        35\n",
       "2018-01-01        40\n",
       "2018-02-01        30\n",
       "2018-02-01        57\n",
       "2018-03-01        82\n",
       "2018-03-01        95\n",
       "2018-04-01        26\n",
       "2018-04-01        57\n",
       "2018-05-01        83\n",
       "2018-05-01        87\n",
       "2018-06-01        46\n",
       "2018-06-01        42"
      ]
     },
     "execution_count": 8,
     "metadata": {},
     "output_type": "execute_result"
    }
   ],
   "source": [
    "df"
   ]
  },
  {
   "cell_type": "code",
   "execution_count": 10,
   "id": "cf071a07",
   "metadata": {},
   "outputs": [
    {
     "data": {
      "text/html": [
       "<div>\n",
       "<style scoped>\n",
       "    .dataframe tbody tr th:only-of-type {\n",
       "        vertical-align: middle;\n",
       "    }\n",
       "\n",
       "    .dataframe tbody tr th {\n",
       "        vertical-align: top;\n",
       "    }\n",
       "\n",
       "    .dataframe thead th {\n",
       "        text-align: right;\n",
       "    }\n",
       "</style>\n",
       "<table border=\"1\" class=\"dataframe\">\n",
       "  <thead>\n",
       "    <tr style=\"text-align: right;\">\n",
       "      <th></th>\n",
       "      <th>visitors</th>\n",
       "    </tr>\n",
       "    <tr>\n",
       "      <th>date</th>\n",
       "      <th></th>\n",
       "    </tr>\n",
       "  </thead>\n",
       "  <tbody>\n",
       "    <tr>\n",
       "      <th>2018-05-01</th>\n",
       "      <td>83</td>\n",
       "    </tr>\n",
       "    <tr>\n",
       "      <th>2018-05-01</th>\n",
       "      <td>87</td>\n",
       "    </tr>\n",
       "  </tbody>\n",
       "</table>\n",
       "</div>"
      ],
      "text/plain": [
       "            visitors\n",
       "date                \n",
       "2018-05-01        83\n",
       "2018-05-01        87"
      ]
     },
     "execution_count": 10,
     "metadata": {},
     "output_type": "execute_result"
    }
   ],
   "source": [
    "#filter by date\n",
    "df.loc['2018-05']"
   ]
  },
  {
   "cell_type": "code",
   "execution_count": 9,
   "id": "fe89ba48",
   "metadata": {},
   "outputs": [
    {
     "data": {
      "text/html": [
       "<div>\n",
       "<style scoped>\n",
       "    .dataframe tbody tr th:only-of-type {\n",
       "        vertical-align: middle;\n",
       "    }\n",
       "\n",
       "    .dataframe tbody tr th {\n",
       "        vertical-align: top;\n",
       "    }\n",
       "\n",
       "    .dataframe thead th {\n",
       "        text-align: right;\n",
       "    }\n",
       "</style>\n",
       "<table border=\"1\" class=\"dataframe\">\n",
       "  <thead>\n",
       "    <tr style=\"text-align: right;\">\n",
       "      <th></th>\n",
       "      <th>visitors</th>\n",
       "    </tr>\n",
       "    <tr>\n",
       "      <th>date</th>\n",
       "      <th></th>\n",
       "    </tr>\n",
       "  </thead>\n",
       "  <tbody>\n",
       "    <tr>\n",
       "      <th>2018-03-01</th>\n",
       "      <td>82</td>\n",
       "    </tr>\n",
       "    <tr>\n",
       "      <th>2018-03-01</th>\n",
       "      <td>95</td>\n",
       "    </tr>\n",
       "    <tr>\n",
       "      <th>2018-04-01</th>\n",
       "      <td>26</td>\n",
       "    </tr>\n",
       "    <tr>\n",
       "      <th>2018-04-01</th>\n",
       "      <td>57</td>\n",
       "    </tr>\n",
       "    <tr>\n",
       "      <th>2018-05-01</th>\n",
       "      <td>83</td>\n",
       "    </tr>\n",
       "    <tr>\n",
       "      <th>2018-05-01</th>\n",
       "      <td>87</td>\n",
       "    </tr>\n",
       "    <tr>\n",
       "      <th>2018-06-01</th>\n",
       "      <td>46</td>\n",
       "    </tr>\n",
       "    <tr>\n",
       "      <th>2018-06-01</th>\n",
       "      <td>42</td>\n",
       "    </tr>\n",
       "  </tbody>\n",
       "</table>\n",
       "</div>"
      ],
      "text/plain": [
       "            visitors\n",
       "date                \n",
       "2018-03-01        82\n",
       "2018-03-01        95\n",
       "2018-04-01        26\n",
       "2018-04-01        57\n",
       "2018-05-01        83\n",
       "2018-05-01        87\n",
       "2018-06-01        46\n",
       "2018-06-01        42"
      ]
     },
     "execution_count": 9,
     "metadata": {},
     "output_type": "execute_result"
    }
   ],
   "source": [
    "df[datetime(2018,3,1):]"
   ]
  },
  {
   "cell_type": "code",
   "execution_count": 12,
   "id": "c754bdb7",
   "metadata": {},
   "outputs": [
    {
     "data": {
      "text/html": [
       "<div>\n",
       "<style scoped>\n",
       "    .dataframe tbody tr th:only-of-type {\n",
       "        vertical-align: middle;\n",
       "    }\n",
       "\n",
       "    .dataframe tbody tr th {\n",
       "        vertical-align: top;\n",
       "    }\n",
       "\n",
       "    .dataframe thead th {\n",
       "        text-align: right;\n",
       "    }\n",
       "</style>\n",
       "<table border=\"1\" class=\"dataframe\">\n",
       "  <thead>\n",
       "    <tr style=\"text-align: right;\">\n",
       "      <th></th>\n",
       "      <th>visitors</th>\n",
       "    </tr>\n",
       "    <tr>\n",
       "      <th>date</th>\n",
       "      <th></th>\n",
       "    </tr>\n",
       "  </thead>\n",
       "  <tbody>\n",
       "    <tr>\n",
       "      <th>2018-01-01</th>\n",
       "      <td>35</td>\n",
       "    </tr>\n",
       "    <tr>\n",
       "      <th>2018-01-01</th>\n",
       "      <td>40</td>\n",
       "    </tr>\n",
       "    <tr>\n",
       "      <th>2018-02-01</th>\n",
       "      <td>30</td>\n",
       "    </tr>\n",
       "    <tr>\n",
       "      <th>2018-02-01</th>\n",
       "      <td>57</td>\n",
       "    </tr>\n",
       "    <tr>\n",
       "      <th>2018-03-01</th>\n",
       "      <td>82</td>\n",
       "    </tr>\n",
       "    <tr>\n",
       "      <th>2018-03-01</th>\n",
       "      <td>95</td>\n",
       "    </tr>\n",
       "  </tbody>\n",
       "</table>\n",
       "</div>"
      ],
      "text/plain": [
       "            visitors\n",
       "date                \n",
       "2018-01-01        35\n",
       "2018-01-01        40\n",
       "2018-02-01        30\n",
       "2018-02-01        57\n",
       "2018-03-01        82\n",
       "2018-03-01        95"
      ]
     },
     "execution_count": 12,
     "metadata": {},
     "output_type": "execute_result"
    }
   ],
   "source": [
    "df.truncate(after='2018-03-01')"
   ]
  },
  {
   "cell_type": "code",
   "execution_count": 13,
   "id": "405dd4d0",
   "metadata": {},
   "outputs": [
    {
     "data": {
      "text/html": [
       "<div>\n",
       "<style scoped>\n",
       "    .dataframe tbody tr th:only-of-type {\n",
       "        vertical-align: middle;\n",
       "    }\n",
       "\n",
       "    .dataframe tbody tr th {\n",
       "        vertical-align: top;\n",
       "    }\n",
       "\n",
       "    .dataframe thead th {\n",
       "        text-align: right;\n",
       "    }\n",
       "</style>\n",
       "<table border=\"1\" class=\"dataframe\">\n",
       "  <thead>\n",
       "    <tr style=\"text-align: right;\">\n",
       "      <th></th>\n",
       "      <th>visitors</th>\n",
       "    </tr>\n",
       "    <tr>\n",
       "      <th>date</th>\n",
       "      <th></th>\n",
       "    </tr>\n",
       "  </thead>\n",
       "  <tbody>\n",
       "    <tr>\n",
       "      <th>2018-01-01</th>\n",
       "      <td>2</td>\n",
       "    </tr>\n",
       "    <tr>\n",
       "      <th>2018-02-01</th>\n",
       "      <td>2</td>\n",
       "    </tr>\n",
       "    <tr>\n",
       "      <th>2018-03-01</th>\n",
       "      <td>2</td>\n",
       "    </tr>\n",
       "    <tr>\n",
       "      <th>2018-04-01</th>\n",
       "      <td>2</td>\n",
       "    </tr>\n",
       "    <tr>\n",
       "      <th>2018-05-01</th>\n",
       "      <td>2</td>\n",
       "    </tr>\n",
       "    <tr>\n",
       "      <th>2018-06-01</th>\n",
       "      <td>2</td>\n",
       "    </tr>\n",
       "  </tbody>\n",
       "</table>\n",
       "</div>"
      ],
      "text/plain": [
       "            visitors\n",
       "date                \n",
       "2018-01-01         2\n",
       "2018-02-01         2\n",
       "2018-03-01         2\n",
       "2018-04-01         2\n",
       "2018-05-01         2\n",
       "2018-06-01         2"
      ]
     },
     "execution_count": 13,
     "metadata": {},
     "output_type": "execute_result"
    }
   ],
   "source": [
    "df.groupby('date').count()"
   ]
  },
  {
   "cell_type": "code",
   "execution_count": 15,
   "id": "add2841c",
   "metadata": {},
   "outputs": [
    {
     "data": {
      "text/html": [
       "<div>\n",
       "<style scoped>\n",
       "    .dataframe tbody tr th:only-of-type {\n",
       "        vertical-align: middle;\n",
       "    }\n",
       "\n",
       "    .dataframe tbody tr th {\n",
       "        vertical-align: top;\n",
       "    }\n",
       "\n",
       "    .dataframe thead th {\n",
       "        text-align: right;\n",
       "    }\n",
       "</style>\n",
       "<table border=\"1\" class=\"dataframe\">\n",
       "  <thead>\n",
       "    <tr style=\"text-align: right;\">\n",
       "      <th></th>\n",
       "      <th>visitors</th>\n",
       "    </tr>\n",
       "    <tr>\n",
       "      <th>date</th>\n",
       "      <th></th>\n",
       "    </tr>\n",
       "  </thead>\n",
       "  <tbody>\n",
       "    <tr>\n",
       "      <th>2018-01-31</th>\n",
       "      <td>37.5</td>\n",
       "    </tr>\n",
       "    <tr>\n",
       "      <th>2018-02-28</th>\n",
       "      <td>43.5</td>\n",
       "    </tr>\n",
       "    <tr>\n",
       "      <th>2018-03-31</th>\n",
       "      <td>88.5</td>\n",
       "    </tr>\n",
       "    <tr>\n",
       "      <th>2018-04-30</th>\n",
       "      <td>41.5</td>\n",
       "    </tr>\n",
       "    <tr>\n",
       "      <th>2018-05-31</th>\n",
       "      <td>85.0</td>\n",
       "    </tr>\n",
       "    <tr>\n",
       "      <th>2018-06-30</th>\n",
       "      <td>44.0</td>\n",
       "    </tr>\n",
       "  </tbody>\n",
       "</table>\n",
       "</div>"
      ],
      "text/plain": [
       "            visitors\n",
       "date                \n",
       "2018-01-31      37.5\n",
       "2018-02-28      43.5\n",
       "2018-03-31      88.5\n",
       "2018-04-30      41.5\n",
       "2018-05-31      85.0\n",
       "2018-06-30      44.0"
      ]
     },
     "execution_count": 15,
     "metadata": {},
     "output_type": "execute_result"
    }
   ],
   "source": [
    "# The resample method lets us change the frequency in our dataset.\n",
    "df.resample('ME').mean()"
   ]
  },
  {
   "cell_type": "code",
   "execution_count": 16,
   "id": "9389e886",
   "metadata": {},
   "outputs": [
    {
     "data": {
      "text/html": [
       "<div>\n",
       "<style scoped>\n",
       "    .dataframe tbody tr th:only-of-type {\n",
       "        vertical-align: middle;\n",
       "    }\n",
       "\n",
       "    .dataframe tbody tr th {\n",
       "        vertical-align: top;\n",
       "    }\n",
       "\n",
       "    .dataframe thead th {\n",
       "        text-align: right;\n",
       "    }\n",
       "</style>\n",
       "<table border=\"1\" class=\"dataframe\">\n",
       "  <thead>\n",
       "    <tr style=\"text-align: right;\">\n",
       "      <th></th>\n",
       "      <th>visitors</th>\n",
       "    </tr>\n",
       "    <tr>\n",
       "      <th>date</th>\n",
       "      <th></th>\n",
       "    </tr>\n",
       "  </thead>\n",
       "  <tbody>\n",
       "    <tr>\n",
       "      <th>2018-01-31</th>\n",
       "      <td>75</td>\n",
       "    </tr>\n",
       "    <tr>\n",
       "      <th>2018-02-28</th>\n",
       "      <td>87</td>\n",
       "    </tr>\n",
       "    <tr>\n",
       "      <th>2018-03-31</th>\n",
       "      <td>177</td>\n",
       "    </tr>\n",
       "    <tr>\n",
       "      <th>2018-04-30</th>\n",
       "      <td>83</td>\n",
       "    </tr>\n",
       "    <tr>\n",
       "      <th>2018-05-31</th>\n",
       "      <td>170</td>\n",
       "    </tr>\n",
       "    <tr>\n",
       "      <th>2018-06-30</th>\n",
       "      <td>88</td>\n",
       "    </tr>\n",
       "  </tbody>\n",
       "</table>\n",
       "</div>"
      ],
      "text/plain": [
       "            visitors\n",
       "date                \n",
       "2018-01-31        75\n",
       "2018-02-28        87\n",
       "2018-03-31       177\n",
       "2018-04-30        83\n",
       "2018-05-31       170\n",
       "2018-06-30        88"
      ]
     },
     "execution_count": 16,
     "metadata": {},
     "output_type": "execute_result"
    }
   ],
   "source": [
    "df.resample('ME').sum()"
   ]
  },
  {
   "cell_type": "markdown",
   "id": "7362dcba",
   "metadata": {},
   "source": [
    " Offset aliases used by Pandas to represent common time series frequencies.\n",
    "Alias Description\n",
    "B   businessdayfrequency\n",
    "C   custombusinessdayfrequency\n",
    "D   calendardayfrequency\n",
    "W   weeklyfrequency\n",
    "M   month-endfrequency\n",
    "SM  semi-month-end frequency(15th and end of month)\n",
    "BM  businessmonth-endfrequency\n",
    "CBM custombusinessmonth-endfrequency\n",
    "MS  month-startfrequency\n",
    "SMS semi-month-startfrequency(1stand15th)\n",
    "BMS businessmonthstartfrequency\n",
    "CBMS    custombusinessmonth-startfrequency\n",
    "Q   quarter-endfrequency\n",
    "BQ  businessquarter-endfrequency\n",
    "QS  quarterstartfrequency\n",
    "BQS businessquarter-startfrequency\n",
    "A,  Yyear-endfrequency\n",
    "BA, BYbusinessyear-endfrequency\n",
    "AS, YS year-startfrequency\n",
    "BAS, BYS business year-startfrequency\n",
    "BH  business hour frequency\n",
    "H   hourly frequency\n",
    "T,  min minutelyfrequency\n",
    "S   secondlyfrequency\n",
    "L,  ms milliseconds\n",
    "U,  us microseconds\n",
    "N   nanoseconds"
   ]
  },
  {
   "cell_type": "code",
   "execution_count": 17,
   "id": "967be22c",
   "metadata": {},
   "outputs": [
    {
     "data": {
      "text/html": [
       "<div>\n",
       "<style scoped>\n",
       "    .dataframe tbody tr th:only-of-type {\n",
       "        vertical-align: middle;\n",
       "    }\n",
       "\n",
       "    .dataframe tbody tr th {\n",
       "        vertical-align: top;\n",
       "    }\n",
       "\n",
       "    .dataframe thead tr th {\n",
       "        text-align: left;\n",
       "    }\n",
       "\n",
       "    .dataframe thead tr:last-of-type th {\n",
       "        text-align: right;\n",
       "    }\n",
       "</style>\n",
       "<table border=\"1\" class=\"dataframe\">\n",
       "  <thead>\n",
       "    <tr>\n",
       "      <th></th>\n",
       "      <th colspan=\"8\" halign=\"left\">visitors</th>\n",
       "    </tr>\n",
       "    <tr>\n",
       "      <th></th>\n",
       "      <th>count</th>\n",
       "      <th>mean</th>\n",
       "      <th>std</th>\n",
       "      <th>min</th>\n",
       "      <th>25%</th>\n",
       "      <th>50%</th>\n",
       "      <th>75%</th>\n",
       "      <th>max</th>\n",
       "    </tr>\n",
       "    <tr>\n",
       "      <th>date</th>\n",
       "      <th></th>\n",
       "      <th></th>\n",
       "      <th></th>\n",
       "      <th></th>\n",
       "      <th></th>\n",
       "      <th></th>\n",
       "      <th></th>\n",
       "      <th></th>\n",
       "    </tr>\n",
       "  </thead>\n",
       "  <tbody>\n",
       "    <tr>\n",
       "      <th>2018-01-01</th>\n",
       "      <td>2.0</td>\n",
       "      <td>37.5</td>\n",
       "      <td>3.535534</td>\n",
       "      <td>35.0</td>\n",
       "      <td>36.25</td>\n",
       "      <td>37.5</td>\n",
       "      <td>38.75</td>\n",
       "      <td>40.0</td>\n",
       "    </tr>\n",
       "    <tr>\n",
       "      <th>2018-02-01</th>\n",
       "      <td>2.0</td>\n",
       "      <td>43.5</td>\n",
       "      <td>19.091883</td>\n",
       "      <td>30.0</td>\n",
       "      <td>36.75</td>\n",
       "      <td>43.5</td>\n",
       "      <td>50.25</td>\n",
       "      <td>57.0</td>\n",
       "    </tr>\n",
       "    <tr>\n",
       "      <th>2018-03-01</th>\n",
       "      <td>2.0</td>\n",
       "      <td>88.5</td>\n",
       "      <td>9.192388</td>\n",
       "      <td>82.0</td>\n",
       "      <td>85.25</td>\n",
       "      <td>88.5</td>\n",
       "      <td>91.75</td>\n",
       "      <td>95.0</td>\n",
       "    </tr>\n",
       "    <tr>\n",
       "      <th>2018-04-01</th>\n",
       "      <td>2.0</td>\n",
       "      <td>41.5</td>\n",
       "      <td>21.920310</td>\n",
       "      <td>26.0</td>\n",
       "      <td>33.75</td>\n",
       "      <td>41.5</td>\n",
       "      <td>49.25</td>\n",
       "      <td>57.0</td>\n",
       "    </tr>\n",
       "    <tr>\n",
       "      <th>2018-05-01</th>\n",
       "      <td>2.0</td>\n",
       "      <td>85.0</td>\n",
       "      <td>2.828427</td>\n",
       "      <td>83.0</td>\n",
       "      <td>84.00</td>\n",
       "      <td>85.0</td>\n",
       "      <td>86.00</td>\n",
       "      <td>87.0</td>\n",
       "    </tr>\n",
       "    <tr>\n",
       "      <th>2018-06-01</th>\n",
       "      <td>2.0</td>\n",
       "      <td>44.0</td>\n",
       "      <td>2.828427</td>\n",
       "      <td>42.0</td>\n",
       "      <td>43.00</td>\n",
       "      <td>44.0</td>\n",
       "      <td>45.00</td>\n",
       "      <td>46.0</td>\n",
       "    </tr>\n",
       "  </tbody>\n",
       "</table>\n",
       "</div>"
      ],
      "text/plain": [
       "           visitors                                                 \n",
       "              count  mean        std   min    25%   50%    75%   max\n",
       "date                                                                \n",
       "2018-01-01      2.0  37.5   3.535534  35.0  36.25  37.5  38.75  40.0\n",
       "2018-02-01      2.0  43.5  19.091883  30.0  36.75  43.5  50.25  57.0\n",
       "2018-03-01      2.0  88.5   9.192388  82.0  85.25  88.5  91.75  95.0\n",
       "2018-04-01      2.0  41.5  21.920310  26.0  33.75  41.5  49.25  57.0\n",
       "2018-05-01      2.0  85.0   2.828427  83.0  84.00  85.0  86.00  87.0\n",
       "2018-06-01      2.0  44.0   2.828427  42.0  43.00  44.0  45.00  46.0"
      ]
     },
     "execution_count": 17,
     "metadata": {},
     "output_type": "execute_result"
    }
   ],
   "source": [
    "df.groupby('date').describe()"
   ]
  },
  {
   "cell_type": "code",
   "execution_count": 19,
   "id": "06bf11aa",
   "metadata": {},
   "outputs": [
    {
     "name": "stdout",
     "output_type": "stream",
     "text": [
      "2016-10-14 00:00:00\n"
     ]
    }
   ],
   "source": [
    "# We can provide a data in plain natural language, and convert it to a datetype.\n",
    "date=pd.to_datetime(\"14th of October, 2016\")\n",
    "print(date)"
   ]
  },
  {
   "cell_type": "code",
   "execution_count": null,
   "id": "c4f65f28",
   "metadata": {},
   "outputs": [],
   "source": [
    "# Someformatdirectives for the strftime method.\n",
    "\"\"\" \n",
    "Directive Meaning\n",
    "%a abbreviatedweekdayname\n",
    "%A full weekdayname\n",
    "%b abbreviatedmonthname\n",
    "%B full monthname\n",
    "%c preferreddateandtimerepresentation\n",
    "%d dayofthemonth(1 to 31)\n",
    "%D same as%m/%d/%y\n",
    "%e dayofthemonth(1 to 31)\n",
    "%m month (1 to 12)\n",
    "%M minute\n",
    "%S second\n",
    "%u weekdayasanumber(Mon=1 to 7)\n",
    "\"\"\"\n"
   ]
  },
  {
   "cell_type": "code",
   "execution_count": 21,
   "id": "b6e20bd6",
   "metadata": {},
   "outputs": [
    {
     "data": {
      "text/plain": [
       "'Friday'"
      ]
     },
     "execution_count": 21,
     "metadata": {},
     "output_type": "execute_result"
    }
   ],
   "source": [
    "date.strftime('%A')\n"
   ]
  },
  {
   "cell_type": "code",
   "execution_count": null,
   "id": "18a70da3",
   "metadata": {},
   "outputs": [
    {
     "name": "stdout",
     "output_type": "stream",
     "text": [
      "October , 5\n"
     ]
    }
   ],
   "source": [
    "print( date.strftime('%B'), ',' , date.strftime('%u'))"
   ]
  },
  {
   "cell_type": "code",
   "execution_count": null,
   "id": "2a0a7514",
   "metadata": {},
   "outputs": [
    {
     "data": {
      "text/plain": [
       "DatetimeIndex(['2018-05-30', '2018-05-31', '2018-06-01', '2018-06-02'], dtype='datetime64[ns]', freq='D')"
      ]
     },
     "execution_count": 27,
     "metadata": {},
     "output_type": "execute_result"
    }
   ],
   "source": [
    "# timerange by specifying start and end times.\n",
    "pd.date_range('2018-05-30', '2018-06-02')"
   ]
  },
  {
   "cell_type": "code",
   "execution_count": 26,
   "id": "be931d1f",
   "metadata": {},
   "outputs": [
    {
     "data": {
      "text/plain": [
       "DatetimeIndex(['2018-05-30', '2018-05-31', '2018-06-01', '2018-06-02'], dtype='datetime64[ns]', freq='D')"
      ]
     },
     "execution_count": 26,
     "metadata": {},
     "output_type": "execute_result"
    }
   ],
   "source": [
    "pd.date_range('2018-05-30', periods=4)"
   ]
  },
  {
   "cell_type": "code",
   "execution_count": null,
   "id": "84863451",
   "metadata": {},
   "outputs": [],
   "source": [
    "pd.date_range('2018-05-30', periods=4,freq='M')"
   ]
  },
  {
   "cell_type": "code",
   "execution_count": 28,
   "id": "f0aef383",
   "metadata": {},
   "outputs": [],
   "source": [
    "from numpy.random import randn\n",
    "idx =pd.date_range('2018-06-04 00:00:00',\n",
    "periods=4)\n",
    "cols =['A','B','C','D']"
   ]
  },
  {
   "cell_type": "code",
   "execution_count": null,
   "id": "3880210a",
   "metadata": {},
   "outputs": [],
   "source": [
    "# creates an array of m with rows and n columns.\n",
    "data =randn(len(idx),len(cols))"
   ]
  },
  {
   "cell_type": "code",
   "execution_count": 30,
   "id": "87433840",
   "metadata": {},
   "outputs": [],
   "source": [
    "df =pd.DataFrame(data=data,\n",
    "index=idx, columns=cols)\n",
    "df.index.name='date'\n"
   ]
  },
  {
   "cell_type": "code",
   "execution_count": 31,
   "id": "035ab65f",
   "metadata": {},
   "outputs": [
    {
     "data": {
      "text/html": [
       "<div>\n",
       "<style scoped>\n",
       "    .dataframe tbody tr th:only-of-type {\n",
       "        vertical-align: middle;\n",
       "    }\n",
       "\n",
       "    .dataframe tbody tr th {\n",
       "        vertical-align: top;\n",
       "    }\n",
       "\n",
       "    .dataframe thead th {\n",
       "        text-align: right;\n",
       "    }\n",
       "</style>\n",
       "<table border=\"1\" class=\"dataframe\">\n",
       "  <thead>\n",
       "    <tr style=\"text-align: right;\">\n",
       "      <th></th>\n",
       "      <th>A</th>\n",
       "      <th>B</th>\n",
       "      <th>C</th>\n",
       "      <th>D</th>\n",
       "    </tr>\n",
       "    <tr>\n",
       "      <th>date</th>\n",
       "      <th></th>\n",
       "      <th></th>\n",
       "      <th></th>\n",
       "      <th></th>\n",
       "    </tr>\n",
       "  </thead>\n",
       "  <tbody>\n",
       "    <tr>\n",
       "      <th>2018-06-04</th>\n",
       "      <td>-0.734479</td>\n",
       "      <td>0.443866</td>\n",
       "      <td>-0.047658</td>\n",
       "      <td>-1.557907</td>\n",
       "    </tr>\n",
       "    <tr>\n",
       "      <th>2018-06-05</th>\n",
       "      <td>-0.422902</td>\n",
       "      <td>-0.470179</td>\n",
       "      <td>-0.134026</td>\n",
       "      <td>-0.372622</td>\n",
       "    </tr>\n",
       "    <tr>\n",
       "      <th>2018-06-06</th>\n",
       "      <td>-0.262428</td>\n",
       "      <td>0.773446</td>\n",
       "      <td>-0.689367</td>\n",
       "      <td>2.195224</td>\n",
       "    </tr>\n",
       "    <tr>\n",
       "      <th>2018-06-07</th>\n",
       "      <td>0.500962</td>\n",
       "      <td>-0.860853</td>\n",
       "      <td>1.379406</td>\n",
       "      <td>1.642739</td>\n",
       "    </tr>\n",
       "  </tbody>\n",
       "</table>\n",
       "</div>"
      ],
      "text/plain": [
       "                   A         B         C         D\n",
       "date                                              \n",
       "2018-06-04 -0.734479  0.443866 -0.047658 -1.557907\n",
       "2018-06-05 -0.422902 -0.470179 -0.134026 -0.372622\n",
       "2018-06-06 -0.262428  0.773446 -0.689367  2.195224\n",
       "2018-06-07  0.500962 -0.860853  1.379406  1.642739"
      ]
     },
     "execution_count": 31,
     "metadata": {},
     "output_type": "execute_result"
    }
   ],
   "source": [
    "df"
   ]
  },
  {
   "cell_type": "code",
   "execution_count": 32,
   "id": "cf7fdccb",
   "metadata": {},
   "outputs": [],
   "source": [
    "df.reset_index(inplace=True)"
   ]
  },
  {
   "cell_type": "code",
   "execution_count": 33,
   "id": "ad149568",
   "metadata": {},
   "outputs": [
    {
     "name": "stdout",
     "output_type": "stream",
     "text": [
      "         date feature   reading\n",
      "0  2018-06-04       A -0.734479\n",
      "1  2018-06-05       A -0.422902\n",
      "2  2018-06-06       A -0.262428\n",
      "3  2018-06-07       A  0.500962\n",
      "4  2018-06-04       B  0.443866\n",
      "5  2018-06-05       B -0.470179\n",
      "6  2018-06-06       B  0.773446\n",
      "7  2018-06-07       B -0.860853\n",
      "8  2018-06-04       C -0.047658\n",
      "9  2018-06-05       C -0.134026\n",
      "10 2018-06-06       C -0.689367\n",
      "11 2018-06-07       C  1.379406\n",
      "12 2018-06-04       D -1.557907\n",
      "13 2018-06-05       D -0.372622\n",
      "14 2018-06-06       D  2.195224\n",
      "15 2018-06-07       D  1.642739\n"
     ]
    }
   ],
   "source": [
    "melted=pd.melt(df,id_vars='date',\n",
    "var_name='feature',\n",
    "value_name='reading')\n",
    "print(melted)"
   ]
  },
  {
   "cell_type": "code",
   "execution_count": null,
   "id": "705d0a6c",
   "metadata": {},
   "outputs": [],
   "source": []
  },
  {
   "cell_type": "markdown",
   "id": "3f328baf",
   "metadata": {},
   "source": [
    "The original columns have become entries in the column called “features” and the values are in the column “reading”."
   ]
  },
  {
   "cell_type": "markdown",
   "id": "86bbfdb7",
   "metadata": {},
   "source": [
    "## Data Manipulation"
   ]
  },
  {
   "cell_type": "code",
   "execution_count": 34,
   "id": "dee67b97",
   "metadata": {},
   "outputs": [],
   "source": [
    "# sample dataset Apple Inc Prices Apr 2017 - Apr 2018\n",
    "url='https://figshare.com/articles/dataset/Apple_Inc_Prices_Apr_2017_-_Apr_2018/6339830/1?file=11624558'"
   ]
  },
  {
   "cell_type": "code",
   "execution_count": 38,
   "id": "0f4d2a9e",
   "metadata": {},
   "outputs": [],
   "source": [
    "appl =pd.read_csv('AAPL.CSV')\n",
    "appl.Date =pd.to_datetime(appl.Date,\n",
    "format='%Y-%m-%d')"
   ]
  },
  {
   "cell_type": "code",
   "execution_count": null,
   "id": "e048639f",
   "metadata": {},
   "outputs": [
    {
     "ename": "SyntaxError",
     "evalue": "invalid character '’' (U+2019) (3733389291.py, line 1)",
     "output_type": "error",
     "traceback": [
      "  \u001b[36mCell\u001b[39m\u001b[36m \u001b[39m\u001b[32mIn[39]\u001b[39m\u001b[32m, line 1\u001b[39m\n\u001b[31m    \u001b[39m\u001b[31mappl.set_index(’Date’, inplace=True)\u001b[39m\n                   ^\n\u001b[31mSyntaxError\u001b[39m\u001b[31m:\u001b[39m invalid character '’' (U+2019)\n"
     ]
    }
   ],
   "source": [
    "appl.set_index('Date', inplace=True)"
   ]
  },
  {
   "cell_type": "code",
   "execution_count": 40,
   "id": "badcbdc3",
   "metadata": {},
   "outputs": [
    {
     "data": {
      "text/html": [
       "<div>\n",
       "<style scoped>\n",
       "    .dataframe tbody tr th:only-of-type {\n",
       "        vertical-align: middle;\n",
       "    }\n",
       "\n",
       "    .dataframe tbody tr th {\n",
       "        vertical-align: top;\n",
       "    }\n",
       "\n",
       "    .dataframe thead th {\n",
       "        text-align: right;\n",
       "    }\n",
       "</style>\n",
       "<table border=\"1\" class=\"dataframe\">\n",
       "  <thead>\n",
       "    <tr style=\"text-align: right;\">\n",
       "      <th></th>\n",
       "      <th>Date</th>\n",
       "      <th>Open</th>\n",
       "      <th>High</th>\n",
       "      <th>Low</th>\n",
       "      <th>Close</th>\n",
       "      <th>Adj Close</th>\n",
       "      <th>Volume</th>\n",
       "    </tr>\n",
       "  </thead>\n",
       "  <tbody>\n",
       "    <tr>\n",
       "      <th>0</th>\n",
       "      <td>2017-04-25</td>\n",
       "      <td>143.910004</td>\n",
       "      <td>144.899994</td>\n",
       "      <td>143.869995</td>\n",
       "      <td>144.529999</td>\n",
       "      <td>142.279205</td>\n",
       "      <td>18871500</td>\n",
       "    </tr>\n",
       "    <tr>\n",
       "      <th>1</th>\n",
       "      <td>2017-04-26</td>\n",
       "      <td>144.470001</td>\n",
       "      <td>144.600006</td>\n",
       "      <td>143.380005</td>\n",
       "      <td>143.679993</td>\n",
       "      <td>141.442444</td>\n",
       "      <td>20041200</td>\n",
       "    </tr>\n",
       "    <tr>\n",
       "      <th>2</th>\n",
       "      <td>2017-04-27</td>\n",
       "      <td>143.919998</td>\n",
       "      <td>144.160004</td>\n",
       "      <td>143.309998</td>\n",
       "      <td>143.789993</td>\n",
       "      <td>141.550735</td>\n",
       "      <td>14246300</td>\n",
       "    </tr>\n",
       "    <tr>\n",
       "      <th>3</th>\n",
       "      <td>2017-04-28</td>\n",
       "      <td>144.089996</td>\n",
       "      <td>144.300003</td>\n",
       "      <td>143.270004</td>\n",
       "      <td>143.649994</td>\n",
       "      <td>141.412918</td>\n",
       "      <td>20860400</td>\n",
       "    </tr>\n",
       "    <tr>\n",
       "      <th>4</th>\n",
       "      <td>2017-05-01</td>\n",
       "      <td>145.100006</td>\n",
       "      <td>147.199997</td>\n",
       "      <td>144.960007</td>\n",
       "      <td>146.580002</td>\n",
       "      <td>144.297287</td>\n",
       "      <td>33602900</td>\n",
       "    </tr>\n",
       "  </tbody>\n",
       "</table>\n",
       "</div>"
      ],
      "text/plain": [
       "        Date        Open        High         Low       Close   Adj Close  \\\n",
       "0 2017-04-25  143.910004  144.899994  143.869995  144.529999  142.279205   \n",
       "1 2017-04-26  144.470001  144.600006  143.380005  143.679993  141.442444   \n",
       "2 2017-04-27  143.919998  144.160004  143.309998  143.789993  141.550735   \n",
       "3 2017-04-28  144.089996  144.300003  143.270004  143.649994  141.412918   \n",
       "4 2017-05-01  145.100006  147.199997  144.960007  146.580002  144.297287   \n",
       "\n",
       "     Volume  \n",
       "0  18871500  \n",
       "1  20041200  \n",
       "2  14246300  \n",
       "3  20860400  \n",
       "4  33602900  "
      ]
     },
     "execution_count": 40,
     "metadata": {},
     "output_type": "execute_result"
    }
   ],
   "source": [
    "appl.head()"
   ]
  },
  {
   "cell_type": "code",
   "execution_count": 41,
   "id": "1b8e6c52",
   "metadata": {},
   "outputs": [],
   "source": [
    "# The diff method calculates the difference from one time period to the next.\n",
    "appl['log_ret'] =np.log(appl.Close).diff()"
   ]
  },
  {
   "cell_type": "code",
   "execution_count": 42,
   "id": "55805842",
   "metadata": {},
   "outputs": [
    {
     "data": {
      "text/plain": [
       "250   -0.002901\n",
       "251   -0.014017\n",
       "252    0.004348\n",
       "Name: log_ret, dtype: float64"
      ]
     },
     "execution_count": 42,
     "metadata": {},
     "output_type": "execute_result"
    }
   ],
   "source": [
    "appl['log_ret'].tail(3)"
   ]
  },
  {
   "cell_type": "markdown",
   "id": "8ad5c71b",
   "metadata": {},
   "source": [
    "### Bitcoin"
   ]
  },
  {
   "cell_type": "code",
   "execution_count": 53,
   "id": "dba589fa",
   "metadata": {},
   "outputs": [],
   "source": [
    "from datetime import datetime\n",
    "\n",
    "\"\"\" \n",
    "we will notice that the date is stored in a column called time_start, and that the format is such that\n",
    "the day is placed first, followed by the month and the year; the time in hours and minutes is provided. We can use this\n",
    "information to create a rule to parse the date:\n",
    "\"\"\"\n",
    "parser =lambda date: datetime.\\\n",
    "    strptime(date, '%d/%m/%Y %H:%M')"
   ]
  },
  {
   "cell_type": "code",
   "execution_count": 54,
   "id": "a69d89e3",
   "metadata": {},
   "outputs": [
    {
     "name": "stderr",
     "output_type": "stream",
     "text": [
      "C:\\Users\\david\\AppData\\Local\\Temp\\ipykernel_31444\\1015902748.py:3: FutureWarning: The argument 'date_parser' is deprecated and will be removed in a future version. Please use 'date_format' instead, or read your data in as 'object' dtype and then call 'to_datetime'.\n",
      "  bitcoin =pd.read_csv(fname,\n"
     ]
    }
   ],
   "source": [
    "# Wespecifythecolumnstobe parsed andhowtheyshallbe parsed!\n",
    "fname ='bitcoin_usd.csv'\n",
    "bitcoin =pd.read_csv(fname,\n",
    "parse_dates=['time_start'],\n",
    "date_parser=parser,\n",
    "index_col='time_start')"
   ]
  },
  {
   "cell_type": "code",
   "execution_count": 55,
   "id": "e714db2e",
   "metadata": {},
   "outputs": [],
   "source": [
    "ticks =bitcoin[['close','volume']]"
   ]
  },
  {
   "cell_type": "code",
   "execution_count": 56,
   "id": "4efbad19",
   "metadata": {},
   "outputs": [
    {
     "data": {
      "text/html": [
       "<div>\n",
       "<style scoped>\n",
       "    .dataframe tbody tr th:only-of-type {\n",
       "        vertical-align: middle;\n",
       "    }\n",
       "\n",
       "    .dataframe tbody tr th {\n",
       "        vertical-align: top;\n",
       "    }\n",
       "\n",
       "    .dataframe thead th {\n",
       "        text-align: right;\n",
       "    }\n",
       "</style>\n",
       "<table border=\"1\" class=\"dataframe\">\n",
       "  <thead>\n",
       "    <tr style=\"text-align: right;\">\n",
       "      <th></th>\n",
       "      <th>close</th>\n",
       "      <th>volume</th>\n",
       "    </tr>\n",
       "    <tr>\n",
       "      <th>time_start</th>\n",
       "      <th></th>\n",
       "      <th></th>\n",
       "    </tr>\n",
       "  </thead>\n",
       "  <tbody>\n",
       "    <tr>\n",
       "      <th>2016-03-31 00:00:00</th>\n",
       "      <td>413.27</td>\n",
       "      <td>8.953746</td>\n",
       "    </tr>\n",
       "    <tr>\n",
       "      <th>2016-03-31 00:05:00</th>\n",
       "      <td>413.26</td>\n",
       "      <td>0.035157</td>\n",
       "    </tr>\n",
       "    <tr>\n",
       "      <th>2016-03-31 00:10:00</th>\n",
       "      <td>413.51</td>\n",
       "      <td>43.640052</td>\n",
       "    </tr>\n",
       "    <tr>\n",
       "      <th>2016-03-31 00:15:00</th>\n",
       "      <td>414.98</td>\n",
       "      <td>0.038896</td>\n",
       "    </tr>\n",
       "    <tr>\n",
       "      <th>2016-03-31 00:20:00</th>\n",
       "      <td>414.98</td>\n",
       "      <td>0.241800</td>\n",
       "    </tr>\n",
       "    <tr>\n",
       "      <th>...</th>\n",
       "      <td>...</td>\n",
       "      <td>...</td>\n",
       "    </tr>\n",
       "    <tr>\n",
       "      <th>2016-04-03 23:35:00</th>\n",
       "      <td>420.60</td>\n",
       "      <td>0.000000</td>\n",
       "    </tr>\n",
       "    <tr>\n",
       "      <th>2016-04-03 23:40:00</th>\n",
       "      <td>NaN</td>\n",
       "      <td>NaN</td>\n",
       "    </tr>\n",
       "    <tr>\n",
       "      <th>2016-04-03 23:45:00</th>\n",
       "      <td>NaN</td>\n",
       "      <td>NaN</td>\n",
       "    </tr>\n",
       "    <tr>\n",
       "      <th>2016-04-03 23:50:00</th>\n",
       "      <td>420.60</td>\n",
       "      <td>0.955772</td>\n",
       "    </tr>\n",
       "    <tr>\n",
       "      <th>2016-04-03 23:55:00</th>\n",
       "      <td>421.00</td>\n",
       "      <td>58.000000</td>\n",
       "    </tr>\n",
       "  </tbody>\n",
       "</table>\n",
       "<p>1152 rows × 2 columns</p>\n",
       "</div>"
      ],
      "text/plain": [
       "                      close     volume\n",
       "time_start                            \n",
       "2016-03-31 00:00:00  413.27   8.953746\n",
       "2016-03-31 00:05:00  413.26   0.035157\n",
       "2016-03-31 00:10:00  413.51  43.640052\n",
       "2016-03-31 00:15:00  414.98   0.038896\n",
       "2016-03-31 00:20:00  414.98   0.241800\n",
       "...                     ...        ...\n",
       "2016-04-03 23:35:00  420.60   0.000000\n",
       "2016-04-03 23:40:00     NaN        NaN\n",
       "2016-04-03 23:45:00     NaN        NaN\n",
       "2016-04-03 23:50:00  420.60   0.955772\n",
       "2016-04-03 23:55:00  421.00  58.000000\n",
       "\n",
       "[1152 rows x 2 columns]"
      ]
     },
     "execution_count": 56,
     "metadata": {},
     "output_type": "execute_result"
    }
   ],
   "source": [
    "ticks.resample('5Min').first()"
   ]
  },
  {
   "cell_type": "code",
   "execution_count": 57,
   "id": "5a5eb25c",
   "metadata": {},
   "outputs": [
    {
     "data": {
      "text/html": [
       "<div>\n",
       "<style scoped>\n",
       "    .dataframe tbody tr th:only-of-type {\n",
       "        vertical-align: middle;\n",
       "    }\n",
       "\n",
       "    .dataframe tbody tr th {\n",
       "        vertical-align: top;\n",
       "    }\n",
       "\n",
       "    .dataframe thead th {\n",
       "        text-align: right;\n",
       "    }\n",
       "</style>\n",
       "<table border=\"1\" class=\"dataframe\">\n",
       "  <thead>\n",
       "    <tr style=\"text-align: right;\">\n",
       "      <th></th>\n",
       "      <th>close</th>\n",
       "      <th>volume</th>\n",
       "    </tr>\n",
       "    <tr>\n",
       "      <th>time_start</th>\n",
       "      <th></th>\n",
       "      <th></th>\n",
       "    </tr>\n",
       "  </thead>\n",
       "  <tbody>\n",
       "    <tr>\n",
       "      <th>2016-03-31 00:00:00</th>\n",
       "      <td>413.270000</td>\n",
       "      <td>2.735987</td>\n",
       "    </tr>\n",
       "    <tr>\n",
       "      <th>2016-03-31 00:05:00</th>\n",
       "      <td>413.264000</td>\n",
       "      <td>2.211749</td>\n",
       "    </tr>\n",
       "    <tr>\n",
       "      <th>2016-03-31 00:10:00</th>\n",
       "      <td>414.660000</td>\n",
       "      <td>37.919166</td>\n",
       "    </tr>\n",
       "    <tr>\n",
       "      <th>2016-03-31 00:15:00</th>\n",
       "      <td>414.982000</td>\n",
       "      <td>5.574657</td>\n",
       "    </tr>\n",
       "    <tr>\n",
       "      <th>2016-03-31 00:20:00</th>\n",
       "      <td>414.986000</td>\n",
       "      <td>0.063756</td>\n",
       "    </tr>\n",
       "    <tr>\n",
       "      <th>...</th>\n",
       "      <td>...</td>\n",
       "      <td>...</td>\n",
       "    </tr>\n",
       "    <tr>\n",
       "      <th>2016-04-03 23:35:00</th>\n",
       "      <td>420.600000</td>\n",
       "      <td>0.000000</td>\n",
       "    </tr>\n",
       "    <tr>\n",
       "      <th>2016-04-03 23:40:00</th>\n",
       "      <td>NaN</td>\n",
       "      <td>NaN</td>\n",
       "    </tr>\n",
       "    <tr>\n",
       "      <th>2016-04-03 23:45:00</th>\n",
       "      <td>NaN</td>\n",
       "      <td>NaN</td>\n",
       "    </tr>\n",
       "    <tr>\n",
       "      <th>2016-04-03 23:50:00</th>\n",
       "      <td>420.600000</td>\n",
       "      <td>0.955772</td>\n",
       "    </tr>\n",
       "    <tr>\n",
       "      <th>2016-04-03 23:55:00</th>\n",
       "      <td>420.733333</td>\n",
       "      <td>19.827284</td>\n",
       "    </tr>\n",
       "  </tbody>\n",
       "</table>\n",
       "<p>1152 rows × 2 columns</p>\n",
       "</div>"
      ],
      "text/plain": [
       "                          close     volume\n",
       "time_start                                \n",
       "2016-03-31 00:00:00  413.270000   2.735987\n",
       "2016-03-31 00:05:00  413.264000   2.211749\n",
       "2016-03-31 00:10:00  414.660000  37.919166\n",
       "2016-03-31 00:15:00  414.982000   5.574657\n",
       "2016-03-31 00:20:00  414.986000   0.063756\n",
       "...                         ...        ...\n",
       "2016-04-03 23:35:00  420.600000   0.000000\n",
       "2016-04-03 23:40:00         NaN        NaN\n",
       "2016-04-03 23:45:00         NaN        NaN\n",
       "2016-04-03 23:50:00  420.600000   0.955772\n",
       "2016-04-03 23:55:00  420.733333  19.827284\n",
       "\n",
       "[1152 rows x 2 columns]"
      ]
     },
     "execution_count": 57,
     "metadata": {},
     "output_type": "execute_result"
    }
   ],
   "source": [
    "ticks.resample('5Min').mean()"
   ]
  },
  {
   "cell_type": "code",
   "execution_count": null,
   "id": "2dc8d391",
   "metadata": {},
   "outputs": [
    {
     "data": {
      "text/html": [
       "<div>\n",
       "<style scoped>\n",
       "    .dataframe tbody tr th:only-of-type {\n",
       "        vertical-align: middle;\n",
       "    }\n",
       "\n",
       "    .dataframe tbody tr th {\n",
       "        vertical-align: top;\n",
       "    }\n",
       "\n",
       "    .dataframe thead th {\n",
       "        text-align: right;\n",
       "    }\n",
       "</style>\n",
       "<table border=\"1\" class=\"dataframe\">\n",
       "  <thead>\n",
       "    <tr style=\"text-align: right;\">\n",
       "      <th></th>\n",
       "      <th>close</th>\n",
       "      <th>volume</th>\n",
       "    </tr>\n",
       "    <tr>\n",
       "      <th>time_start</th>\n",
       "      <th></th>\n",
       "      <th></th>\n",
       "    </tr>\n",
       "  </thead>\n",
       "  <tbody>\n",
       "    <tr>\n",
       "      <th>2016-03-31</th>\n",
       "      <td>416.02</td>\n",
       "      <td>0.200000</td>\n",
       "    </tr>\n",
       "    <tr>\n",
       "      <th>2016-04-01</th>\n",
       "      <td>417.90</td>\n",
       "      <td>52.099684</td>\n",
       "    </tr>\n",
       "    <tr>\n",
       "      <th>2016-04-02</th>\n",
       "      <td>420.30</td>\n",
       "      <td>0.850000</td>\n",
       "    </tr>\n",
       "    <tr>\n",
       "      <th>2016-04-03</th>\n",
       "      <td>420.60</td>\n",
       "      <td>0.984358</td>\n",
       "    </tr>\n",
       "  </tbody>\n",
       "</table>\n",
       "</div>"
      ],
      "text/plain": [
       "             close     volume\n",
       "time_start                   \n",
       "2016-03-31  416.02   0.200000\n",
       "2016-04-01  417.90  52.099684\n",
       "2016-04-02  420.30   0.850000\n",
       "2016-04-03  420.60   0.984358"
      ]
     },
     "execution_count": 58,
     "metadata": {},
     "output_type": "execute_result"
    }
   ],
   "source": [
    "\"\"\"\n",
    "In thiswaywecouldgettheclosingpriceforthedayby\n",
    "resamplingbydayandrequestingthelastvalue:\n",
    "\"\"\"\n",
    "ticks.resample('D').last()"
   ]
  },
  {
   "cell_type": "code",
   "execution_count": 59,
   "id": "57ff21b7",
   "metadata": {},
   "outputs": [],
   "source": [
    "\"\"\"The ohlc() method letsusfindthe\n",
    "OHLC pricesforournewsampled\n",
    "data.\"\"\"\n",
    "bars=ticks['close'].resample('5Min').ohlc()\n",
    "           "
   ]
  },
  {
   "cell_type": "code",
   "execution_count": null,
   "id": "054b5bfb",
   "metadata": {},
   "outputs": [],
   "source": [
    "\"\"\" \n",
    "Pandas willtakethefirstandlastvaluesintheintervaltobe\n",
    "the openandcloseforthebar.Thenitwilltakethemaxand\n",
    "min asthehighandlow,respectively.Inthisway,westart\n",
    "filtering thedata.Forexample,imagineweareinterestedin\n",
    "the pricesbetween10amand4pmeachday: \n",
    "\"\"\"\n",
    "filtered=bars.between_time('10:00', '16:00')"
   ]
  },
  {
   "cell_type": "code",
   "execution_count": 62,
   "id": "0e7fc555",
   "metadata": {},
   "outputs": [
    {
     "data": {
      "text/plain": [
       "time_start\n",
       "2016-03-31 08:00:00    416.11\n",
       "2016-04-01 08:00:00    416.02\n",
       "2016-04-02 08:00:00    420.69\n",
       "2016-04-03 08:00:00    418.78\n",
       "Freq: 1440min, Name: open, dtype: float64"
      ]
     },
     "execution_count": 62,
     "metadata": {},
     "output_type": "execute_result"
    }
   ],
   "source": [
    "bars.open.at_time('8:00') "
   ]
  },
  {
   "cell_type": "code",
   "execution_count": 63,
   "id": "d11e596e",
   "metadata": {},
   "outputs": [
    {
     "data": {
      "text/plain": [
       "time_start\n",
       "2016-03-31 08:00:00         NaN\n",
       "2016-04-01 08:00:00   -0.000216\n",
       "2016-04-02 08:00:00    0.011225\n",
       "2016-04-03 08:00:00   -0.004540\n",
       "Freq: 1440min, Name: open, dtype: float64"
      ]
     },
     "execution_count": 63,
     "metadata": {},
     "output_type": "execute_result"
    }
   ],
   "source": [
    "bars.open.at_time('8:00').pct_change()"
   ]
  },
  {
   "cell_type": "code",
   "execution_count": 64,
   "id": "fc58a255",
   "metadata": {},
   "outputs": [
    {
     "data": {
      "text/html": [
       "<div>\n",
       "<style scoped>\n",
       "    .dataframe tbody tr th:only-of-type {\n",
       "        vertical-align: middle;\n",
       "    }\n",
       "\n",
       "    .dataframe tbody tr th {\n",
       "        vertical-align: top;\n",
       "    }\n",
       "\n",
       "    .dataframe thead th {\n",
       "        text-align: right;\n",
       "    }\n",
       "</style>\n",
       "<table border=\"1\" class=\"dataframe\">\n",
       "  <thead>\n",
       "    <tr style=\"text-align: right;\">\n",
       "      <th></th>\n",
       "      <th>open</th>\n",
       "      <th>high</th>\n",
       "      <th>low</th>\n",
       "      <th>close</th>\n",
       "    </tr>\n",
       "    <tr>\n",
       "      <th>time_start</th>\n",
       "      <th></th>\n",
       "      <th></th>\n",
       "      <th></th>\n",
       "      <th></th>\n",
       "    </tr>\n",
       "  </thead>\n",
       "  <tbody>\n",
       "    <tr>\n",
       "      <th>2016-04-03 23:35:00</th>\n",
       "      <td>420.6</td>\n",
       "      <td>420.6</td>\n",
       "      <td>420.6</td>\n",
       "      <td>420.6</td>\n",
       "    </tr>\n",
       "    <tr>\n",
       "      <th>2016-04-03 23:40:00</th>\n",
       "      <td>NaN</td>\n",
       "      <td>NaN</td>\n",
       "      <td>NaN</td>\n",
       "      <td>NaN</td>\n",
       "    </tr>\n",
       "    <tr>\n",
       "      <th>2016-04-03 23:45:00</th>\n",
       "      <td>NaN</td>\n",
       "      <td>NaN</td>\n",
       "      <td>NaN</td>\n",
       "      <td>NaN</td>\n",
       "    </tr>\n",
       "    <tr>\n",
       "      <th>2016-04-03 23:50:00</th>\n",
       "      <td>420.6</td>\n",
       "      <td>420.6</td>\n",
       "      <td>420.6</td>\n",
       "      <td>420.6</td>\n",
       "    </tr>\n",
       "    <tr>\n",
       "      <th>2016-04-03 23:55:00</th>\n",
       "      <td>421.0</td>\n",
       "      <td>421.0</td>\n",
       "      <td>420.6</td>\n",
       "      <td>420.6</td>\n",
       "    </tr>\n",
       "  </tbody>\n",
       "</table>\n",
       "</div>"
      ],
      "text/plain": [
       "                      open   high    low  close\n",
       "time_start                                     \n",
       "2016-04-03 23:35:00  420.6  420.6  420.6  420.6\n",
       "2016-04-03 23:40:00    NaN    NaN    NaN    NaN\n",
       "2016-04-03 23:45:00    NaN    NaN    NaN    NaN\n",
       "2016-04-03 23:50:00  420.6  420.6  420.6  420.6\n",
       "2016-04-03 23:55:00  421.0  421.0  420.6  420.6"
      ]
     },
     "execution_count": 64,
     "metadata": {},
     "output_type": "execute_result"
    }
   ],
   "source": [
    "bars.tail()"
   ]
  },
  {
   "cell_type": "code",
   "execution_count": 68,
   "id": "8a5f8223",
   "metadata": {},
   "outputs": [
    {
     "name": "stderr",
     "output_type": "stream",
     "text": [
      "C:\\Users\\david\\AppData\\Local\\Temp\\ipykernel_31444\\733771188.py:1: FutureWarning: DataFrame.fillna with 'method' is deprecated and will raise in a future version. Use obj.ffill() or obj.bfill() instead.\n",
      "  bars.fillna(method='ffill',limit=1)\n"
     ]
    },
    {
     "data": {
      "text/html": [
       "<div>\n",
       "<style scoped>\n",
       "    .dataframe tbody tr th:only-of-type {\n",
       "        vertical-align: middle;\n",
       "    }\n",
       "\n",
       "    .dataframe tbody tr th {\n",
       "        vertical-align: top;\n",
       "    }\n",
       "\n",
       "    .dataframe thead th {\n",
       "        text-align: right;\n",
       "    }\n",
       "</style>\n",
       "<table border=\"1\" class=\"dataframe\">\n",
       "  <thead>\n",
       "    <tr style=\"text-align: right;\">\n",
       "      <th></th>\n",
       "      <th>open</th>\n",
       "      <th>high</th>\n",
       "      <th>low</th>\n",
       "      <th>close</th>\n",
       "    </tr>\n",
       "    <tr>\n",
       "      <th>time_start</th>\n",
       "      <th></th>\n",
       "      <th></th>\n",
       "      <th></th>\n",
       "      <th></th>\n",
       "    </tr>\n",
       "  </thead>\n",
       "  <tbody>\n",
       "    <tr>\n",
       "      <th>2016-03-31 00:00:00</th>\n",
       "      <td>413.27</td>\n",
       "      <td>413.27</td>\n",
       "      <td>413.27</td>\n",
       "      <td>413.27</td>\n",
       "    </tr>\n",
       "    <tr>\n",
       "      <th>2016-03-31 00:05:00</th>\n",
       "      <td>413.26</td>\n",
       "      <td>413.28</td>\n",
       "      <td>413.25</td>\n",
       "      <td>413.28</td>\n",
       "    </tr>\n",
       "    <tr>\n",
       "      <th>2016-03-31 00:10:00</th>\n",
       "      <td>413.51</td>\n",
       "      <td>414.98</td>\n",
       "      <td>413.51</td>\n",
       "      <td>414.98</td>\n",
       "    </tr>\n",
       "    <tr>\n",
       "      <th>2016-03-31 00:15:00</th>\n",
       "      <td>414.98</td>\n",
       "      <td>414.99</td>\n",
       "      <td>414.98</td>\n",
       "      <td>414.98</td>\n",
       "    </tr>\n",
       "    <tr>\n",
       "      <th>2016-03-31 00:20:00</th>\n",
       "      <td>414.98</td>\n",
       "      <td>414.99</td>\n",
       "      <td>414.98</td>\n",
       "      <td>414.99</td>\n",
       "    </tr>\n",
       "    <tr>\n",
       "      <th>...</th>\n",
       "      <td>...</td>\n",
       "      <td>...</td>\n",
       "      <td>...</td>\n",
       "      <td>...</td>\n",
       "    </tr>\n",
       "    <tr>\n",
       "      <th>2016-04-03 23:35:00</th>\n",
       "      <td>420.60</td>\n",
       "      <td>420.60</td>\n",
       "      <td>420.60</td>\n",
       "      <td>420.60</td>\n",
       "    </tr>\n",
       "    <tr>\n",
       "      <th>2016-04-03 23:40:00</th>\n",
       "      <td>420.60</td>\n",
       "      <td>420.60</td>\n",
       "      <td>420.60</td>\n",
       "      <td>420.60</td>\n",
       "    </tr>\n",
       "    <tr>\n",
       "      <th>2016-04-03 23:45:00</th>\n",
       "      <td>NaN</td>\n",
       "      <td>NaN</td>\n",
       "      <td>NaN</td>\n",
       "      <td>NaN</td>\n",
       "    </tr>\n",
       "    <tr>\n",
       "      <th>2016-04-03 23:50:00</th>\n",
       "      <td>420.60</td>\n",
       "      <td>420.60</td>\n",
       "      <td>420.60</td>\n",
       "      <td>420.60</td>\n",
       "    </tr>\n",
       "    <tr>\n",
       "      <th>2016-04-03 23:55:00</th>\n",
       "      <td>421.00</td>\n",
       "      <td>421.00</td>\n",
       "      <td>420.60</td>\n",
       "      <td>420.60</td>\n",
       "    </tr>\n",
       "  </tbody>\n",
       "</table>\n",
       "<p>1152 rows × 4 columns</p>\n",
       "</div>"
      ],
      "text/plain": [
       "                       open    high     low   close\n",
       "time_start                                         \n",
       "2016-03-31 00:00:00  413.27  413.27  413.27  413.27\n",
       "2016-03-31 00:05:00  413.26  413.28  413.25  413.28\n",
       "2016-03-31 00:10:00  413.51  414.98  413.51  414.98\n",
       "2016-03-31 00:15:00  414.98  414.99  414.98  414.98\n",
       "2016-03-31 00:20:00  414.98  414.99  414.98  414.99\n",
       "...                     ...     ...     ...     ...\n",
       "2016-04-03 23:35:00  420.60  420.60  420.60  420.60\n",
       "2016-04-03 23:40:00  420.60  420.60  420.60  420.60\n",
       "2016-04-03 23:45:00     NaN     NaN     NaN     NaN\n",
       "2016-04-03 23:50:00  420.60  420.60  420.60  420.60\n",
       "2016-04-03 23:55:00  421.00  421.00  420.60  420.60\n",
       "\n",
       "[1152 rows x 4 columns]"
      ]
     },
     "execution_count": 68,
     "metadata": {},
     "output_type": "execute_result"
    }
   ],
   "source": [
    "bars.fillna(method='ffill',limit=1)"
   ]
  },
  {
   "cell_type": "code",
   "execution_count": null,
   "id": "f2420973",
   "metadata": {},
   "outputs": [],
   "source": []
  },
  {
   "cell_type": "code",
   "execution_count": null,
   "id": "5a61f3a7",
   "metadata": {},
   "outputs": [
    {
     "data": {
      "text/html": [
       "<div>\n",
       "<style scoped>\n",
       "    .dataframe tbody tr th:only-of-type {\n",
       "        vertical-align: middle;\n",
       "    }\n",
       "\n",
       "    .dataframe tbody tr th {\n",
       "        vertical-align: top;\n",
       "    }\n",
       "\n",
       "    .dataframe thead th {\n",
       "        text-align: right;\n",
       "    }\n",
       "</style>\n",
       "<table border=\"1\" class=\"dataframe\">\n",
       "  <thead>\n",
       "    <tr style=\"text-align: right;\">\n",
       "      <th></th>\n",
       "      <th>open</th>\n",
       "      <th>high</th>\n",
       "      <th>low</th>\n",
       "      <th>close</th>\n",
       "    </tr>\n",
       "    <tr>\n",
       "      <th>time_start</th>\n",
       "      <th></th>\n",
       "      <th></th>\n",
       "      <th></th>\n",
       "      <th></th>\n",
       "    </tr>\n",
       "  </thead>\n",
       "  <tbody>\n",
       "    <tr>\n",
       "      <th>2016-03-31 00:00:00</th>\n",
       "      <td>413.27</td>\n",
       "      <td>413.27</td>\n",
       "      <td>413.27</td>\n",
       "      <td>413.27</td>\n",
       "    </tr>\n",
       "    <tr>\n",
       "      <th>2016-03-31 00:05:00</th>\n",
       "      <td>413.26</td>\n",
       "      <td>413.28</td>\n",
       "      <td>413.25</td>\n",
       "      <td>413.28</td>\n",
       "    </tr>\n",
       "    <tr>\n",
       "      <th>2016-03-31 00:10:00</th>\n",
       "      <td>413.51</td>\n",
       "      <td>414.98</td>\n",
       "      <td>413.51</td>\n",
       "      <td>414.98</td>\n",
       "    </tr>\n",
       "    <tr>\n",
       "      <th>2016-03-31 00:15:00</th>\n",
       "      <td>414.98</td>\n",
       "      <td>414.99</td>\n",
       "      <td>414.98</td>\n",
       "      <td>414.98</td>\n",
       "    </tr>\n",
       "    <tr>\n",
       "      <th>2016-03-31 00:20:00</th>\n",
       "      <td>414.98</td>\n",
       "      <td>414.99</td>\n",
       "      <td>414.98</td>\n",
       "      <td>414.99</td>\n",
       "    </tr>\n",
       "    <tr>\n",
       "      <th>...</th>\n",
       "      <td>...</td>\n",
       "      <td>...</td>\n",
       "      <td>...</td>\n",
       "      <td>...</td>\n",
       "    </tr>\n",
       "    <tr>\n",
       "      <th>2016-04-03 23:35:00</th>\n",
       "      <td>420.60</td>\n",
       "      <td>420.60</td>\n",
       "      <td>420.60</td>\n",
       "      <td>420.60</td>\n",
       "    </tr>\n",
       "    <tr>\n",
       "      <th>2016-04-03 23:40:00</th>\n",
       "      <td>420.60</td>\n",
       "      <td>420.60</td>\n",
       "      <td>420.60</td>\n",
       "      <td>420.60</td>\n",
       "    </tr>\n",
       "    <tr>\n",
       "      <th>2016-04-03 23:45:00</th>\n",
       "      <td>420.60</td>\n",
       "      <td>420.60</td>\n",
       "      <td>420.60</td>\n",
       "      <td>420.60</td>\n",
       "    </tr>\n",
       "    <tr>\n",
       "      <th>2016-04-03 23:50:00</th>\n",
       "      <td>420.60</td>\n",
       "      <td>420.60</td>\n",
       "      <td>420.60</td>\n",
       "      <td>420.60</td>\n",
       "    </tr>\n",
       "    <tr>\n",
       "      <th>2016-04-03 23:55:00</th>\n",
       "      <td>421.00</td>\n",
       "      <td>421.00</td>\n",
       "      <td>420.60</td>\n",
       "      <td>420.60</td>\n",
       "    </tr>\n",
       "  </tbody>\n",
       "</table>\n",
       "<p>1152 rows × 4 columns</p>\n",
       "</div>"
      ],
      "text/plain": [
       "                       open    high     low   close\n",
       "time_start                                         \n",
       "2016-03-31 00:00:00  413.27  413.27  413.27  413.27\n",
       "2016-03-31 00:05:00  413.26  413.28  413.25  413.28\n",
       "2016-03-31 00:10:00  413.51  414.98  413.51  414.98\n",
       "2016-03-31 00:15:00  414.98  414.99  414.98  414.98\n",
       "2016-03-31 00:20:00  414.98  414.99  414.98  414.99\n",
       "...                     ...     ...     ...     ...\n",
       "2016-04-03 23:35:00  420.60  420.60  420.60  420.60\n",
       "2016-04-03 23:40:00  420.60  420.60  420.60  420.60\n",
       "2016-04-03 23:45:00  420.60  420.60  420.60  420.60\n",
       "2016-04-03 23:50:00  420.60  420.60  420.60  420.60\n",
       "2016-04-03 23:55:00  421.00  421.00  420.60  420.60\n",
       "\n",
       "[1152 rows x 4 columns]"
      ]
     },
     "execution_count": 69,
     "metadata": {},
     "output_type": "execute_result"
    }
   ],
   "source": [
    "#Use obj.ffill()\n",
    "#previos command bars.fillna(method='ffill',limit=1)\n",
    "bars.ffill()"
   ]
  },
  {
   "cell_type": "code",
   "execution_count": null,
   "id": "4f3cdd13",
   "metadata": {},
   "outputs": [],
   "source": []
  },
  {
   "cell_type": "code",
   "execution_count": null,
   "id": "7ac0223f",
   "metadata": {},
   "outputs": [],
   "source": [
    "df.sort_index(inplace=True)"
   ]
  }
 ],
 "metadata": {
  "kernelspec": {
   "display_name": "Python 3",
   "language": "python",
   "name": "python3"
  },
  "language_info": {
   "codemirror_mode": {
    "name": "ipython",
    "version": 3
   },
   "file_extension": ".py",
   "mimetype": "text/x-python",
   "name": "python",
   "nbconvert_exporter": "python",
   "pygments_lexer": "ipython3",
   "version": "3.13.3"
  }
 },
 "nbformat": 4,
 "nbformat_minor": 5
}
