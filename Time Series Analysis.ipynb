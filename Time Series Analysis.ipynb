{
 "cells": [
  {
   "cell_type": "markdown",
   "id": "5a0f1e73",
   "metadata": {},
   "source": [
    "# TimeSeries    "
   ]
  },
  {
   "cell_type": "code",
   "execution_count": null,
   "id": "c47b9b21",
   "metadata": {},
   "outputs": [],
   "source": [
    "import numpy as np\n",
    "import pandas as pd\n",
    "from datetime import datetime"
   ]
  },
  {
   "cell_type": "markdown",
   "id": "89601b35",
   "metadata": {},
   "source": []
  },
  {
   "cell_type": "code",
   "execution_count": null,
   "id": "4a66a190",
   "metadata": {},
   "outputs": [],
   "source": [
    "data ={'date':['2018-01-01','2018-02-01',\n",
    "'2018-03-01', '2018-04-01',\n",
    "'2018-05-01', '2018-06-01',\n",
    "'2018-01-01', '2018-02-01',\n",
    "'2018-03-01', '2018-04-01',\n",
    "'2018-05-01', '2018-06-01'],\n",
    "'visitors': [35,30,82,26,\n",
    "83, 46,40,57,95,57,87,42]}"
   ]
  },
  {
   "cell_type": "code",
   "execution_count": null,
   "id": "d8783bc9",
   "metadata": {},
   "outputs": [],
   "source": [
    "df =pd.DataFrame(data,\n",
    "columns=['date', 'visitors'])"
   ]
  },
  {
   "cell_type": "markdown",
   "id": "b700dc26",
   "metadata": {},
   "source": [
    "Convert Pandas columns into date objects."
   ]
  },
  {
   "cell_type": "code",
   "execution_count": null,
   "id": "1317f596",
   "metadata": {},
   "outputs": [],
   "source": [
    "df['date'] =pd.to_datetime(df['date'])"
   ]
  }
 ],
 "metadata": {
  "kernelspec": {
   "display_name": "Python 3",
   "language": "python",
   "name": "python3"
  },
  "language_info": {
   "name": "python",
   "version": "3.13.3"
  }
 },
 "nbformat": 4,
 "nbformat_minor": 5
}
