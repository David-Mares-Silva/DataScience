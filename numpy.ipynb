{
 "cells": [
  {
   "cell_type": "markdown",
   "id": "923939a0",
   "metadata": {},
   "source": [
    "# Temas y Operaciones Básicas con numpy"
   ]
  },
  {
   "cell_type": "markdown",
   "id": "70529ae0",
   "metadata": {},
   "source": [
    "import numpy"
   ]
  },
  {
   "cell_type": "code",
   "execution_count": 3,
   "id": "7c375d25",
   "metadata": {},
   "outputs": [],
   "source": [
    "import numpy as np"
   ]
  },
  {
   "cell_type": "markdown",
   "id": "73e39a95",
   "metadata": {},
   "source": [
    "## NumPy Arrays, dtypes, and shapes (Arreglos tipos y formas)"
   ]
  },
  {
   "cell_type": "markdown",
   "id": "485e1f14",
   "metadata": {},
   "source": []
  },
  {
   "cell_type": "code",
   "execution_count": 4,
   "id": "17b19a66",
   "metadata": {},
   "outputs": [
    {
     "name": "stdout",
     "output_type": "stream",
     "text": [
      "[1 2 3]\n",
      "(3,)\n",
      "int64\n"
     ]
    }
   ],
   "source": [
    "a = np.array([1, 2, 3])\n",
    "print(a)\n",
    "print(a.shape)\n",
    "print(a.dtype)"
   ]
  },
  {
   "cell_type": "code",
   "execution_count": 5,
   "id": "d206ad12",
   "metadata": {},
   "outputs": [
    {
     "name": "stdout",
     "output_type": "stream",
     "text": [
      "[[0 2 4]\n",
      " [1 3 5]]\n",
      "(2, 3)\n",
      "int64\n"
     ]
    }
   ],
   "source": [
    "b = np.array([[0, 2, 4], [1, 3, 5]])\n",
    "print(b)\n",
    "print(b.shape)\n",
    "print(b.dtype)"
   ]
  },
  {
   "cell_type": "code",
   "execution_count": 7,
   "id": "926e5c94",
   "metadata": {},
   "outputs": [
    {
     "data": {
      "text/plain": [
       "array([0., 0., 0., 0., 0.])"
      ]
     },
     "execution_count": 7,
     "metadata": {},
     "output_type": "execute_result"
    }
   ],
   "source": [
    "# generación de array con zeros\n",
    "np.zeros(5)"
   ]
  },
  {
   "cell_type": "code",
   "execution_count": 8,
   "id": "e1015aff",
   "metadata": {},
   "outputs": [
    {
     "data": {
      "text/plain": [
       "array([[1, 1, 1, 1],\n",
       "       [1, 1, 1, 1],\n",
       "       [1, 1, 1, 1]], dtype=int32)"
      ]
     },
     "execution_count": 8,
     "metadata": {},
     "output_type": "execute_result"
    }
   ],
   "source": [
    "# arreglo con unos de shape (3x4)\n",
    "np.ones(shape=(3, 4), dtype=np.int32)"
   ]
  },
  {
   "cell_type": "markdown",
   "id": "cc1418db",
   "metadata": {},
   "source": [
    "## Operaciones Comunes"
   ]
  },
  {
   "cell_type": "code",
   "execution_count": 9,
   "id": "1dd09292",
   "metadata": {},
   "outputs": [
    {
     "name": "stdout",
     "output_type": "stream",
     "text": [
      "[[0.  1.  2. ]\n",
      " [0.5 1.5 2.5]]\n",
      "(2, 3)\n",
      "float64\n"
     ]
    }
   ],
   "source": [
    "c = b * 0.5\n",
    "print(c)\n",
    "print(c.shape)\n",
    "print(c.dtype)"
   ]
  },
  {
   "cell_type": "code",
   "execution_count": 10,
   "id": "c4238658",
   "metadata": {},
   "outputs": [
    {
     "name": "stdout",
     "output_type": "stream",
     "text": [
      "[[1.  3.  5. ]\n",
      " [1.5 3.5 5.5]]\n"
     ]
    }
   ],
   "source": [
    "d = a + c\n",
    "print(d)"
   ]
  },
  {
   "cell_type": "code",
   "execution_count": 11,
   "id": "8bbcba42",
   "metadata": {},
   "outputs": [
    {
     "data": {
      "text/plain": [
       "array([1., 3., 5.])"
      ]
     },
     "execution_count": 11,
     "metadata": {},
     "output_type": "execute_result"
    }
   ],
   "source": [
    "d[0]"
   ]
  },
  {
   "cell_type": "code",
   "execution_count": 12,
   "id": "3e6093ca",
   "metadata": {},
   "outputs": [
    {
     "data": {
      "text/plain": [
       "np.float64(1.0)"
      ]
     },
     "execution_count": 12,
     "metadata": {},
     "output_type": "execute_result"
    }
   ],
   "source": [
    "d[0, 0]"
   ]
  },
  {
   "cell_type": "code",
   "execution_count": 13,
   "id": "cd946a94",
   "metadata": {},
   "outputs": [
    {
     "data": {
      "text/plain": [
       "array([1. , 1.5])"
      ]
     },
     "execution_count": 13,
     "metadata": {},
     "output_type": "execute_result"
    }
   ],
   "source": [
    "d[:, 0]"
   ]
  },
  {
   "cell_type": "code",
   "execution_count": 15,
   "id": "18aed9ef",
   "metadata": {},
   "outputs": [
    {
     "data": {
      "text/plain": [
       "np.float64(19.5)"
      ]
     },
     "execution_count": 15,
     "metadata": {},
     "output_type": "execute_result"
    }
   ],
   "source": [
    "d.sum()"
   ]
  },
  {
   "cell_type": "code",
   "execution_count": 16,
   "id": "aac02210",
   "metadata": {},
   "outputs": [
    {
     "data": {
      "text/plain": [
       "np.float64(3.25)"
      ]
     },
     "execution_count": 16,
     "metadata": {},
     "output_type": "execute_result"
    }
   ],
   "source": [
    "d.mean()\n",
    "\n"
   ]
  },
  {
   "cell_type": "code",
   "execution_count": 17,
   "id": "bb6a9405",
   "metadata": {},
   "outputs": [
    {
     "data": {
      "text/plain": [
       "array([ 2.5,  6.5, 10.5])"
      ]
     },
     "execution_count": 17,
     "metadata": {},
     "output_type": "execute_result"
    }
   ],
   "source": [
    "d.sum(axis=0)"
   ]
  },
  {
   "cell_type": "code",
   "execution_count": 18,
   "id": "ca1bc7f6",
   "metadata": {},
   "outputs": [
    {
     "data": {
      "text/plain": [
       "array([3. , 3.5])"
      ]
     },
     "execution_count": 18,
     "metadata": {},
     "output_type": "execute_result"
    }
   ],
   "source": [
    "d.mean(axis=1)"
   ]
  },
  {
   "cell_type": "markdown",
   "id": "ae04be4e",
   "metadata": {},
   "source": [
    "## Cambiar forma y actualización in place"
   ]
  },
  {
   "cell_type": "code",
   "execution_count": 19,
   "id": "5aaa1df7",
   "metadata": {},
   "outputs": [
    {
     "name": "stdout",
     "output_type": "stream",
     "text": [
      "[ 0  1  2  3  4  5  6  7  8  9 10 11]\n"
     ]
    }
   ],
   "source": [
    "e = np.arange(12)\n",
    "print(e)"
   ]
  },
  {
   "cell_type": "code",
   "execution_count": 20,
   "id": "99128cc1",
   "metadata": {},
   "outputs": [
    {
     "name": "stdout",
     "output_type": "stream",
     "text": [
      "[[ 0  1  2  3]\n",
      " [ 4  5  6  7]\n",
      " [ 8  9 10 11]]\n"
     ]
    }
   ],
   "source": [
    "# f is a view of contents of e\n",
    "f = e.reshape(3, 4)\n",
    "print(f)"
   ]
  },
  {
   "cell_type": "code",
   "execution_count": 21,
   "id": "5b687e5a",
   "metadata": {},
   "outputs": [
    {
     "name": "stdout",
     "output_type": "stream",
     "text": [
      "[0 1 2 3 4 0 0 0 0 0 0 0]\n"
     ]
    }
   ],
   "source": [
    "e[5:] = 0\n",
    "print(e)"
   ]
  },
  {
   "cell_type": "code",
   "execution_count": 22,
   "id": "8b351432",
   "metadata": {},
   "outputs": [
    {
     "data": {
      "text/plain": [
       "  C_CONTIGUOUS : True\n",
       "  F_CONTIGUOUS : False\n",
       "  OWNDATA : False\n",
       "  WRITEABLE : True\n",
       "  ALIGNED : True\n",
       "  WRITEBACKIFCOPY : False"
      ]
     },
     "execution_count": 22,
     "metadata": {},
     "output_type": "execute_result"
    }
   ],
   "source": [
    "f.flags"
   ]
  },
  {
   "cell_type": "markdown",
   "id": "5d4f7314",
   "metadata": {},
   "source": [
    "## Combinación de Arrays"
   ]
  },
  {
   "cell_type": "code",
   "execution_count": 23,
   "id": "28cd31ec",
   "metadata": {},
   "outputs": [
    {
     "data": {
      "text/plain": [
       "(array([1, 2, 3]),\n",
       " array([[0, 2, 4],\n",
       "        [1, 3, 5]]),\n",
       " array([[1. , 3. , 5. ],\n",
       "        [1.5, 3.5, 5.5]]))"
      ]
     },
     "execution_count": 23,
     "metadata": {},
     "output_type": "execute_result"
    }
   ],
   "source": [
    "a, b, d"
   ]
  },
  {
   "cell_type": "code",
   "execution_count": 24,
   "id": "cb581e32",
   "metadata": {},
   "outputs": [
    {
     "data": {
      "text/plain": [
       "array([1, 2, 3, 1, 2, 3, 1, 2, 3])"
      ]
     },
     "execution_count": 24,
     "metadata": {},
     "output_type": "execute_result"
    }
   ],
   "source": [
    "np.concatenate([a, a, a])"
   ]
  },
  {
   "cell_type": "code",
   "execution_count": 25,
   "id": "bda7c541",
   "metadata": {},
   "outputs": [
    {
     "data": {
      "text/plain": [
       "array([[1. , 2. , 3. ],\n",
       "       [0. , 2. , 4. ],\n",
       "       [1. , 3. , 5. ],\n",
       "       [1. , 3. , 5. ],\n",
       "       [1.5, 3.5, 5.5]])"
      ]
     },
     "execution_count": 25,
     "metadata": {},
     "output_type": "execute_result"
    }
   ],
   "source": [
    "np.vstack([a, b, d])"
   ]
  },
  {
   "cell_type": "code",
   "execution_count": 26,
   "id": "6614fc6d",
   "metadata": {},
   "outputs": [
    {
     "data": {
      "text/plain": [
       "array([[0. , 2. , 4. , 1. , 3. , 5. ],\n",
       "       [1. , 3. , 5. , 1.5, 3.5, 5.5]])"
      ]
     },
     "execution_count": 26,
     "metadata": {},
     "output_type": "execute_result"
    }
   ],
   "source": [
    "np.hstack([b, d])"
   ]
  },
  {
   "cell_type": "code",
   "execution_count": 27,
   "id": "6aba45c6",
   "metadata": {},
   "outputs": [],
   "source": [
    "## Creación de datos Muestra"
   ]
  },
  {
   "cell_type": "code",
   "execution_count": 28,
   "id": "3885e0e8",
   "metadata": {},
   "outputs": [],
   "source": [
    "%matplotlib inline\n",
    "\n",
    "import pylab as plt\n",
    "import seaborn\n",
    "\n",
    "seaborn.set()"
   ]
  },
  {
   "cell_type": "code",
   "execution_count": 29,
   "id": "d96b6532",
   "metadata": {},
   "outputs": [
    {
     "data": {
      "image/png": "[encoded data removed]",
      "text/plain": [
       "<Figure size 640x480 with 1 Axes>"
      ]
     },
     "metadata": {},
     "output_type": "display_data"
    }
   ],
   "source": [
    "# Create evenly spaced numbers over the specified interval\n",
    "x = np.linspace(0, 2, 10)\n",
    "plt.plot(x, 'o-');\n",
    "plt.show()"
   ]
  },
  {
   "cell_type": "code",
   "execution_count": 30,
   "id": "ec2657c8",
   "metadata": {},
   "outputs": [
    {
     "data": {
      "image/png": "[encoded data removed]",
      "text/plain": [
       "<Figure size 640x480 with 1 Axes>"
      ]
     },
     "metadata": {},
     "output_type": "display_data"
    }
   ],
   "source": [
    "# Create sample data, add some noise\n",
    "x = np.random.uniform(1, 100, 1000)\n",
    "y = np.log(x) + np.random.normal(0, .3, 1000)\n",
    "\n",
    "plt.scatter(x, y)\n",
    "plt.show()"
   ]
  },
  {
   "cell_type": "code",
   "execution_count": null,
   "id": "0944efe6",
   "metadata": {},
   "outputs": [],
   "source": []
  }
 ],
 "metadata": {
  "kernelspec": {
   "display_name": "Python 3",
   "language": "python",
   "name": "python3"
  },
  "language_info": {
   "codemirror_mode": {
    "name": "ipython",
    "version": 3
   },
   "file_extension": ".py",
   "mimetype": "text/x-python",
   "name": "python",
   "nbconvert_exporter": "python",
   "pygments_lexer": "ipython3",
   "version": "3.13.3"
  }
 },
 "nbformat": 4,
 "nbformat_minor": 5
}
